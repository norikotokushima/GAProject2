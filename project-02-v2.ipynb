{
 "cells": [
  {
   "cell_type": "markdown",
   "metadata": {},
   "source": [
    "<img src=\"http://imgur.com/1ZcRyrc.png\" style=\"float: left; margin: 15px; height: 80px\">\n",
    "\n",
    "# Project 2\n",
    "\n",
    "### Exploratory Data Analysis (EDA)\n",
    "\n",
    "---\n",
    "\n",
    "Your hometown mayor just created a new data analysis team to give policy advice, and the administration recruited _you_ via LinkedIn to join it. Unfortunately, due to budget constraints, for now the \"team\" is just you...\n",
    "\n",
    "The mayor wants to start a new initiative to move the needle on one of two separate issues: high school education outcomes, or drug abuse in the community.\n",
    "\n",
    "Also unfortunately, that is the entirety of what you've been told. And the mayor just went on a lobbyist-funded fact-finding trip in the Bahamas. In the meantime, you got your hands on two national datasets: one on SAT scores by state, and one on drug use by age. Start exploring these to look for useful patterns and possible hypotheses!\n",
    "\n",
    "---\n",
    "\n",
    "This project is focused on exploratory data analysis, aka \"EDA\". EDA is an essential part of the data science analysis pipeline. Failure to perform EDA before modeling is almost guaranteed to lead to bad models and faulty conclusions. What you do in this project are good practices for all projects going forward, especially those after this bootcamp!\n",
    "\n",
    "This lab includes a variety of plotting problems. Much of the plotting code will be left up to you to find either in the lecture notes, or if not there, online. There are massive amounts of code snippets either in documentation or sites like [Stack Overflow](https://stackoverflow.com/search?q=%5Bpython%5D+seaborn) that have almost certainly done what you are trying to do.\n",
    "\n",
    "**Get used to googling for code!** You will use it every single day as a data scientist, especially for visualization and plotting.\n",
    "\n",
    "#### Package imports"
   ]
  },
  {
   "cell_type": "code",
   "execution_count": 1,
   "metadata": {},
   "outputs": [],
   "source": [
    "import numpy as np\n",
    "import scipy.stats as stats\n",
    "import csv\n",
    "import pandas as pd\n",
    "\n",
    "# this line tells jupyter notebook to put the plots in the notebook rather than saving them to file.\n",
    "%matplotlib inline\n",
    "\n",
    "# this line makes plots prettier on mac retina screens. If you don't have one it shouldn't do anything.\n",
    "%config InlineBackend.figure_format = 'retina'"
   ]
  },
  {
   "cell_type": "markdown",
   "metadata": {},
   "source": [
    "<img src=\"http://imgur.com/l5NasQj.png\" style=\"float: left; margin: 25px 15px 0px 0px; height: 25px\">\n",
    "\n",
    "## 1. Load the `sat_scores.csv` dataset and describe it\n",
    "\n",
    "\n",
    "### 1.1 Load the file with the `csv` module and put it in a Python dictionary\n",
    "\n",
    "The dictionary format for data will be the column names as key, and the data under each column as the values.\n",
    "\n",
    "Toy example:\n",
    "```python\n",
    "data = {\n",
    "    'column1':[0,1,2,3],\n",
    "    'column2':['a','b','c','d']\n",
    "    }\n",
    "```"
   ]
  },
  {
   "cell_type": "code",
   "execution_count": 3,
   "metadata": {},
   "outputs": [],
   "source": [
    "# Allocate name to the path\n",
    "sat_scores = 'C:/Users/norik/Desktop/DSI7 GA Coursework/Projects/Project-2-Submission/sat_scores.csv'\n",
    "\n",
    "# Open sat_scores.csv file\n",
    "with open(sat_scores, mode='r') as f:\n",
    "    sat_score_data = f.readlines()"
   ]
  },
  {
   "cell_type": "code",
   "execution_count": 8,
   "metadata": {},
   "outputs": [
    {
     "data": {
      "text/plain": [
       "['State,Rate,Verbal,Math\\n',\n",
       " 'CT,82,509,510\\n',\n",
       " 'NJ,81,499,513\\n',\n",
       " 'MA,79,511,515\\n',\n",
       " 'NY,77,495,505\\n']"
      ]
     },
     "execution_count": 8,
     "metadata": {},
     "output_type": "execute_result"
    }
   ],
   "source": [
    "# Let's look at the first five rows.\n",
    "sat_score_data[0: 5]"
   ]
  },
  {
   "cell_type": "markdown",
   "metadata": {},
   "source": [
    "As seen from the above, sat_score_data is a list which contains a numberof strings. The first string gives column names and from the second string onwards gives the information per state.\n",
    "\n",
    "- element 1: State  - Name of state\n",
    "- element 2: Rate   - Participation rate\n",
    "- element 3: Verbal - Mean verbal score\n",
    "- element 4: Math   - Mean math score\n",
    "\n",
    "\n",
    "To convert the list into a data frame, we will first create a nested list following the steps below.\n",
    "\n",
    "- Step 1: Create an empty list\n",
    "- Step 2: Remove unwanted words (ie. '\\n'), separate each element and add to the empty list from Step 1.\n",
    "- Step 3: Create an array from the nested list and obtain row and column sizes.\n",
    "- Step 4: Create an empty dictionary\n",
    "- Step 5: Iterate through array rows and columns to obtain a dictionary with keys: 'State', 'Rate', 'Verbal' and 'Math' and their associated values."
   ]
  },
  {
   "cell_type": "code",
   "execution_count": 4,
   "metadata": {},
   "outputs": [],
   "source": [
    "# create an empty list\n",
    "sat_score_list = []\n",
    "\n",
    "\n",
    "for i in sat_score_data:        # iterate through each element in [sat_score_data] lis\n",
    "    i = i.replace('\\n', '')     # replace '\\n' with nothing\n",
    "    row = i.split(',')          # split each row @ ',' make list of [each row]\n",
    "    sat_score_list.append(row)  # append [each row] to [sat_score_list]\n",
    "\n",
    "# print(sat_score_list)         # [['State', 'Rate', 'Verbal', 'Math'], ['CT', '82', '509', '510'], ...]\n",
    "\n",
    "\n",
    "\n",
    "# Create arrays\n",
    "sat_score_array = np.array(sat_score_list)\n",
    "\n",
    "# sat_score_array.shape = (53, 4)\n",
    "# print(sat_score_array)  # [['State' 'Rate' 'Verbal' 'Math']\n",
    "                          #  ['CT' '82' '509' '510']\n",
    "                          #  ['NJ' '81' '499' '513']\n",
    "                          #                     ...]]\n",
    "\n",
    "# Save row and column sizes         \n",
    "row_size    = np.size(sat_score_array,axis=0)  # 53\n",
    "column_size = np.size(sat_score_array,axis=1)  # 4"
   ]
  },
  {
   "cell_type": "code",
   "execution_count": 10,
   "metadata": {},
   "outputs": [],
   "source": [
    "sat_score_dict = {}\n",
    "\n",
    "for i in range(0, column_size):\n",
    "    value = []\n",
    "    \n",
    "    for j in range(0, row_size):\n",
    "        if j == 0:   # first row is 'key'\n",
    "            key = sat_score_array[j][i]\n",
    "\n",
    "        else:\n",
    "            value.append(sat_score_list[j][i])\n",
    "    \n",
    "    sat_score_dict[key] = value"
   ]
  },
  {
   "cell_type": "code",
   "execution_count": 11,
   "metadata": {},
   "outputs": [
    {
     "data": {
      "text/html": [
       "<div>\n",
       "<style scoped>\n",
       "    .dataframe tbody tr th:only-of-type {\n",
       "        vertical-align: middle;\n",
       "    }\n",
       "\n",
       "    .dataframe tbody tr th {\n",
       "        vertical-align: top;\n",
       "    }\n",
       "\n",
       "    .dataframe thead th {\n",
       "        text-align: right;\n",
       "    }\n",
       "</style>\n",
       "<table border=\"1\" class=\"dataframe\">\n",
       "  <thead>\n",
       "    <tr style=\"text-align: right;\">\n",
       "      <th></th>\n",
       "      <th>State</th>\n",
       "      <th>Rate</th>\n",
       "      <th>Verbal</th>\n",
       "      <th>Math</th>\n",
       "    </tr>\n",
       "  </thead>\n",
       "  <tbody>\n",
       "    <tr>\n",
       "      <th>0</th>\n",
       "      <td>CT</td>\n",
       "      <td>82</td>\n",
       "      <td>509</td>\n",
       "      <td>510</td>\n",
       "    </tr>\n",
       "    <tr>\n",
       "      <th>1</th>\n",
       "      <td>NJ</td>\n",
       "      <td>81</td>\n",
       "      <td>499</td>\n",
       "      <td>513</td>\n",
       "    </tr>\n",
       "    <tr>\n",
       "      <th>2</th>\n",
       "      <td>MA</td>\n",
       "      <td>79</td>\n",
       "      <td>511</td>\n",
       "      <td>515</td>\n",
       "    </tr>\n",
       "    <tr>\n",
       "      <th>3</th>\n",
       "      <td>NY</td>\n",
       "      <td>77</td>\n",
       "      <td>495</td>\n",
       "      <td>505</td>\n",
       "    </tr>\n",
       "    <tr>\n",
       "      <th>4</th>\n",
       "      <td>NH</td>\n",
       "      <td>72</td>\n",
       "      <td>520</td>\n",
       "      <td>516</td>\n",
       "    </tr>\n",
       "  </tbody>\n",
       "</table>\n",
       "</div>"
      ],
      "text/plain": [
       "  State Rate Verbal Math\n",
       "0    CT   82    509  510\n",
       "1    NJ   81    499  513\n",
       "2    MA   79    511  515\n",
       "3    NY   77    495  505\n",
       "4    NH   72    520  516"
      ]
     },
     "execution_count": 11,
     "metadata": {},
     "output_type": "execute_result"
    }
   ],
   "source": [
    "# Convert Dictionary to Data Frame\n",
    "sat_score_dict_df = pd.DataFrame(sat_score_dict)\n",
    "sat_score_dict_df.head()"
   ]
  },
  {
   "cell_type": "markdown",
   "metadata": {},
   "source": [
    "### 1.2 Make a pandas DataFrame object with the SAT dictionary, and another with the pandas `.read_csv()` function"
   ]
  },
  {
   "cell_type": "code",
   "execution_count": 6,
   "metadata": {},
   "outputs": [
    {
     "data": {
      "text/html": [
       "<div>\n",
       "<style scoped>\n",
       "    .dataframe tbody tr th:only-of-type {\n",
       "        vertical-align: middle;\n",
       "    }\n",
       "\n",
       "    .dataframe tbody tr th {\n",
       "        vertical-align: top;\n",
       "    }\n",
       "\n",
       "    .dataframe thead th {\n",
       "        text-align: right;\n",
       "    }\n",
       "</style>\n",
       "<table border=\"1\" class=\"dataframe\">\n",
       "  <thead>\n",
       "    <tr style=\"text-align: right;\">\n",
       "      <th></th>\n",
       "      <th>State</th>\n",
       "      <th>Rate</th>\n",
       "      <th>Verbal</th>\n",
       "      <th>Math</th>\n",
       "    </tr>\n",
       "  </thead>\n",
       "  <tbody>\n",
       "    <tr>\n",
       "      <th>0</th>\n",
       "      <td>CT</td>\n",
       "      <td>82</td>\n",
       "      <td>509</td>\n",
       "      <td>510</td>\n",
       "    </tr>\n",
       "    <tr>\n",
       "      <th>1</th>\n",
       "      <td>NJ</td>\n",
       "      <td>81</td>\n",
       "      <td>499</td>\n",
       "      <td>513</td>\n",
       "    </tr>\n",
       "    <tr>\n",
       "      <th>2</th>\n",
       "      <td>MA</td>\n",
       "      <td>79</td>\n",
       "      <td>511</td>\n",
       "      <td>515</td>\n",
       "    </tr>\n",
       "    <tr>\n",
       "      <th>3</th>\n",
       "      <td>NY</td>\n",
       "      <td>77</td>\n",
       "      <td>495</td>\n",
       "      <td>505</td>\n",
       "    </tr>\n",
       "    <tr>\n",
       "      <th>4</th>\n",
       "      <td>NH</td>\n",
       "      <td>72</td>\n",
       "      <td>520</td>\n",
       "      <td>516</td>\n",
       "    </tr>\n",
       "  </tbody>\n",
       "</table>\n",
       "</div>"
      ],
      "text/plain": [
       "  State  Rate  Verbal  Math\n",
       "0    CT    82     509   510\n",
       "1    NJ    81     499   513\n",
       "2    MA    79     511   515\n",
       "3    NY    77     495   505\n",
       "4    NH    72     520   516"
      ]
     },
     "execution_count": 6,
     "metadata": {},
     "output_type": "execute_result"
    }
   ],
   "source": [
    "# Q1.2\n",
    "\n",
    "df = pd.read_csv(sat_scores)  # Loading csv.file to  data frame\n",
    "df.head()                     # check first 5 rows"
   ]
  },
  {
   "cell_type": "code",
   "execution_count": 7,
   "metadata": {},
   "outputs": [
    {
     "data": {
      "text/plain": [
       "State     object\n",
       "Rate       int64\n",
       "Verbal     int64\n",
       "Math       int64\n",
       "dtype: object"
      ]
     },
     "execution_count": 7,
     "metadata": {},
     "output_type": "execute_result"
    }
   ],
   "source": [
    "# Q1.2 cont\n",
    "\n",
    "df.dtypes  # check data types of each column"
   ]
  },
  {
   "cell_type": "code",
   "execution_count": 8,
   "metadata": {},
   "outputs": [
    {
     "data": {
      "text/plain": [
       "(52, 4)"
      ]
     },
     "execution_count": 8,
     "metadata": {},
     "output_type": "execute_result"
    }
   ],
   "source": [
    "df.shape"
   ]
  },
  {
   "cell_type": "code",
   "execution_count": 9,
   "metadata": {},
   "outputs": [
    {
     "name": "stdout",
     "output_type": "stream",
     "text": [
      "<class 'pandas.core.frame.DataFrame'>\n",
      "RangeIndex: 52 entries, 0 to 51\n",
      "Data columns (total 4 columns):\n",
      "State     52 non-null object\n",
      "Rate      52 non-null int64\n",
      "Verbal    52 non-null int64\n",
      "Math      52 non-null int64\n",
      "dtypes: int64(3), object(1)\n",
      "memory usage: 1.7+ KB\n"
     ]
    }
   ],
   "source": [
    "# Q1.2 cont\n",
    "\n",
    "df.info()"
   ]
  },
  {
   "cell_type": "code",
   "execution_count": 10,
   "metadata": {},
   "outputs": [
    {
     "name": "stdout",
     "output_type": "stream",
     "text": [
      "<class 'pandas.core.frame.DataFrame'>\n",
      "RangeIndex: 52 entries, 0 to 51\n",
      "Data columns (total 4 columns):\n",
      "State     52 non-null object\n",
      "Rate      52 non-null object\n",
      "Verbal    52 non-null object\n",
      "Math      52 non-null object\n",
      "dtypes: object(4)\n",
      "memory usage: 1.7+ KB\n"
     ]
    }
   ],
   "source": [
    "sat_score_dict_df.info()\n",
    "\n",
    "# Once put in a dictionary, the data type of scores are 'objects' rather than 'intergers'."
   ]
  },
  {
   "cell_type": "markdown",
   "metadata": {},
   "source": [
    "If you did not convert the string column values to float in your dictionary, the columns in the DataFrame are of type `object` (which are string values, essentially). "
   ]
  },
  {
   "cell_type": "markdown",
   "metadata": {},
   "source": [
    "### 1.3 Look at the first ten rows of the DataFrame: what does our data describe?\n",
    "\n",
    "From now on, use the DataFrame loaded from the file using the `.read_csv()` function.\n",
    "\n",
    "Use the `.head(num)` built-in DataFrame function, where `num` is the number of rows to print out.\n",
    "\n",
    "You are not given a \"codebook\" with this data, so you will have to make some (very minor) inference."
   ]
  },
  {
   "cell_type": "code",
   "execution_count": 11,
   "metadata": {},
   "outputs": [
    {
     "data": {
      "text/html": [
       "<div>\n",
       "<style scoped>\n",
       "    .dataframe tbody tr th:only-of-type {\n",
       "        vertical-align: middle;\n",
       "    }\n",
       "\n",
       "    .dataframe tbody tr th {\n",
       "        vertical-align: top;\n",
       "    }\n",
       "\n",
       "    .dataframe thead th {\n",
       "        text-align: right;\n",
       "    }\n",
       "</style>\n",
       "<table border=\"1\" class=\"dataframe\">\n",
       "  <thead>\n",
       "    <tr style=\"text-align: right;\">\n",
       "      <th></th>\n",
       "      <th>State</th>\n",
       "      <th>Rate</th>\n",
       "      <th>Verbal</th>\n",
       "      <th>Math</th>\n",
       "    </tr>\n",
       "  </thead>\n",
       "  <tbody>\n",
       "    <tr>\n",
       "      <th>0</th>\n",
       "      <td>CT</td>\n",
       "      <td>82</td>\n",
       "      <td>509</td>\n",
       "      <td>510</td>\n",
       "    </tr>\n",
       "    <tr>\n",
       "      <th>1</th>\n",
       "      <td>NJ</td>\n",
       "      <td>81</td>\n",
       "      <td>499</td>\n",
       "      <td>513</td>\n",
       "    </tr>\n",
       "    <tr>\n",
       "      <th>2</th>\n",
       "      <td>MA</td>\n",
       "      <td>79</td>\n",
       "      <td>511</td>\n",
       "      <td>515</td>\n",
       "    </tr>\n",
       "    <tr>\n",
       "      <th>3</th>\n",
       "      <td>NY</td>\n",
       "      <td>77</td>\n",
       "      <td>495</td>\n",
       "      <td>505</td>\n",
       "    </tr>\n",
       "    <tr>\n",
       "      <th>4</th>\n",
       "      <td>NH</td>\n",
       "      <td>72</td>\n",
       "      <td>520</td>\n",
       "      <td>516</td>\n",
       "    </tr>\n",
       "    <tr>\n",
       "      <th>5</th>\n",
       "      <td>RI</td>\n",
       "      <td>71</td>\n",
       "      <td>501</td>\n",
       "      <td>499</td>\n",
       "    </tr>\n",
       "    <tr>\n",
       "      <th>6</th>\n",
       "      <td>PA</td>\n",
       "      <td>71</td>\n",
       "      <td>500</td>\n",
       "      <td>499</td>\n",
       "    </tr>\n",
       "    <tr>\n",
       "      <th>7</th>\n",
       "      <td>VT</td>\n",
       "      <td>69</td>\n",
       "      <td>511</td>\n",
       "      <td>506</td>\n",
       "    </tr>\n",
       "    <tr>\n",
       "      <th>8</th>\n",
       "      <td>ME</td>\n",
       "      <td>69</td>\n",
       "      <td>506</td>\n",
       "      <td>500</td>\n",
       "    </tr>\n",
       "    <tr>\n",
       "      <th>9</th>\n",
       "      <td>VA</td>\n",
       "      <td>68</td>\n",
       "      <td>510</td>\n",
       "      <td>501</td>\n",
       "    </tr>\n",
       "  </tbody>\n",
       "</table>\n",
       "</div>"
      ],
      "text/plain": [
       "  State  Rate  Verbal  Math\n",
       "0    CT    82     509   510\n",
       "1    NJ    81     499   513\n",
       "2    MA    79     511   515\n",
       "3    NY    77     495   505\n",
       "4    NH    72     520   516\n",
       "5    RI    71     501   499\n",
       "6    PA    71     500   499\n",
       "7    VT    69     511   506\n",
       "8    ME    69     506   500\n",
       "9    VA    68     510   501"
      ]
     },
     "execution_count": 11,
     "metadata": {},
     "output_type": "execute_result"
    }
   ],
   "source": [
    "# Q1.3\n",
    "\n",
    "df.head(10)    # load first 10 rows of data\n",
    "\n",
    "               # Data describes the SAT scores of Verbal and Math and the rate of students who participate in SAT??"
   ]
  },
  {
   "cell_type": "markdown",
   "metadata": {},
   "source": [
    "<img src=\"http://imgur.com/l5NasQj.png\" style=\"float: left; margin: 25px 15px 0px 0px; height: 25px\">\n",
    "\n",
    "## 2. Create a \"data dictionary\" based on the data\n",
    "\n",
    "---\n",
    "\n",
    "A data dictionary is an object that describes your data. This should contain the name of each variable (column), the type of the variable, your description of what the variable is, and the shape (rows and columns) of the entire dataset."
   ]
  },
  {
   "cell_type": "code",
   "execution_count": 12,
   "metadata": {},
   "outputs": [
    {
     "data": {
      "text/html": [
       "<div>\n",
       "<style scoped>\n",
       "    .dataframe tbody tr th:only-of-type {\n",
       "        vertical-align: middle;\n",
       "    }\n",
       "\n",
       "    .dataframe tbody tr th {\n",
       "        vertical-align: top;\n",
       "    }\n",
       "\n",
       "    .dataframe thead th {\n",
       "        text-align: right;\n",
       "    }\n",
       "</style>\n",
       "<table border=\"1\" class=\"dataframe\">\n",
       "  <thead>\n",
       "    <tr style=\"text-align: right;\">\n",
       "      <th></th>\n",
       "      <th>State</th>\n",
       "      <th>Rate</th>\n",
       "      <th>Verbal</th>\n",
       "      <th>Math</th>\n",
       "    </tr>\n",
       "  </thead>\n",
       "  <tbody>\n",
       "    <tr>\n",
       "      <th>0</th>\n",
       "      <td>CT</td>\n",
       "      <td>82</td>\n",
       "      <td>509</td>\n",
       "      <td>510</td>\n",
       "    </tr>\n",
       "    <tr>\n",
       "      <th>1</th>\n",
       "      <td>NJ</td>\n",
       "      <td>81</td>\n",
       "      <td>499</td>\n",
       "      <td>513</td>\n",
       "    </tr>\n",
       "    <tr>\n",
       "      <th>2</th>\n",
       "      <td>MA</td>\n",
       "      <td>79</td>\n",
       "      <td>511</td>\n",
       "      <td>515</td>\n",
       "    </tr>\n",
       "    <tr>\n",
       "      <th>3</th>\n",
       "      <td>NY</td>\n",
       "      <td>77</td>\n",
       "      <td>495</td>\n",
       "      <td>505</td>\n",
       "    </tr>\n",
       "    <tr>\n",
       "      <th>4</th>\n",
       "      <td>NH</td>\n",
       "      <td>72</td>\n",
       "      <td>520</td>\n",
       "      <td>516</td>\n",
       "    </tr>\n",
       "  </tbody>\n",
       "</table>\n",
       "</div>"
      ],
      "text/plain": [
       "  State  Rate  Verbal  Math\n",
       "0    CT    82     509   510\n",
       "1    NJ    81     499   513\n",
       "2    MA    79     511   515\n",
       "3    NY    77     495   505\n",
       "4    NH    72     520   516"
      ]
     },
     "execution_count": 12,
     "metadata": {},
     "output_type": "execute_result"
    }
   ],
   "source": [
    "df = pd.read_csv(sat_scores)  # Loading csv.file to  data frame\n",
    "df.head()                     # check first 5 rows"
   ]
  },
  {
   "cell_type": "code",
   "execution_count": 13,
   "metadata": {},
   "outputs": [
    {
     "data": {
      "text/plain": [
       "Index(['State', 'Rate', 'Verbal', 'Math'], dtype='object')"
      ]
     },
     "execution_count": 13,
     "metadata": {},
     "output_type": "execute_result"
    }
   ],
   "source": [
    "# Q2\n",
    "\n",
    "df.columns"
   ]
  },
  {
   "cell_type": "code",
   "execution_count": 14,
   "metadata": {},
   "outputs": [
    {
     "data": {
      "text/plain": [
       "State     object\n",
       "Rate       int64\n",
       "Verbal     int64\n",
       "Math       int64\n",
       "dtype: object"
      ]
     },
     "execution_count": 14,
     "metadata": {},
     "output_type": "execute_result"
    }
   ],
   "source": [
    "df.dtypes"
   ]
  },
  {
   "cell_type": "code",
   "execution_count": 15,
   "metadata": {},
   "outputs": [
    {
     "data": {
      "text/plain": [
       "dtype('int64')"
      ]
     },
     "execution_count": 15,
     "metadata": {},
     "output_type": "execute_result"
    }
   ],
   "source": [
    "df.dtypes['Verbal']"
   ]
  },
  {
   "cell_type": "code",
   "execution_count": 16,
   "metadata": {},
   "outputs": [
    {
     "data": {
      "text/plain": [
       "(52, 4)"
      ]
     },
     "execution_count": 16,
     "metadata": {},
     "output_type": "execute_result"
    }
   ],
   "source": [
    "#Q2 cont\n",
    "\n",
    "df.shape"
   ]
  },
  {
   "cell_type": "code",
   "execution_count": 17,
   "metadata": {},
   "outputs": [
    {
     "name": "stdout",
     "output_type": "stream",
     "text": [
      "{'State': ['State Name', dtype('O')], 'Rate': ['Participation Rate', dtype('int64')], 'Verbal': ['Verbale test score', dtype('int64')], 'Math': ['Math test score', dtype('int64')], 'shape': (52, 4)}\n"
     ]
    }
   ],
   "source": [
    "# Create a data dictionary\n",
    "# name, type, description, shape\n",
    "\n",
    "data_description = ['State Name', 'Participation Rate', 'Verbale test score', 'Math test score']\n",
    "\n",
    "data_dictionary = {}\n",
    "\n",
    "\n",
    "#df_columns_list = list(df.columns)\n",
    "#df_columns_list[1]\n",
    "# len(df_columns_list) gives 4\n",
    "\n",
    "\n",
    "for i in range(len(df.columns)):\n",
    "    # print(i) #gives 0,1,2,3\n",
    "    key = df.columns[i]\n",
    "    #print(key) # gives 'State', 'Rate', 'Verbal', 'Math'\n",
    "    \n",
    "    # create a list which includes data_description and data_type\n",
    "    value = [data_description[i], df[key].dtypes]\n",
    "    data_dictionary[key] = value\n",
    "    \n",
    "data_dictionary['shape'] = df.shape    \n",
    "    \n",
    "print(data_dictionary)\n",
    "\n"
   ]
  },
  {
   "cell_type": "markdown",
   "metadata": {},
   "source": [
    "<img src=\"http://imgur.com/l5NasQj.png\" style=\"float: left; margin: 25px 15px 0px 0px; height: 25px\">\n",
    "\n",
    "## 3. Plot the data using seaborn\n",
    "\n",
    "---\n",
    "\n",
    "### 3.1 Using seaborn's `distplot`, plot the distributions for each of `Rate`, `Math`, and `Verbal`\n",
    "\n",
    "Set the keyword argument `kde=False`. This way you can actually see the counts within bins. You can adjust the number of bins to your liking. \n",
    "\n",
    "[Please read over the `distplot` documentation to learn about the arguments and fine-tune your chart if you want.](https://stanford.edu/~mwaskom/software/seaborn/generated/seaborn.distplot.html#seaborn.distplot)"
   ]
  },
  {
   "cell_type": "code",
   "execution_count": 18,
   "metadata": {},
   "outputs": [],
   "source": [
    "import seaborn as sns"
   ]
  },
  {
   "cell_type": "code",
   "execution_count": 19,
   "metadata": {},
   "outputs": [
    {
     "data": {
      "text/plain": [
       "count    52.000000\n",
       "mean     37.153846\n",
       "std      27.301788\n",
       "min       4.000000\n",
       "25%       9.000000\n",
       "50%      33.500000\n",
       "75%      63.500000\n",
       "max      82.000000\n",
       "Name: Rate, dtype: float64"
      ]
     },
     "execution_count": 19,
     "metadata": {},
     "output_type": "execute_result"
    }
   ],
   "source": [
    "# Q3.1\n",
    "\n",
    "# Check 'Rate' data\n",
    "df['Rate'].describe()"
   ]
  },
  {
   "cell_type": "code",
   "execution_count": 20,
   "metadata": {},
   "outputs": [
    {
     "data": {
      "text/plain": [
       "<matplotlib.axes._subplots.AxesSubplot at 0x1fc804a1780>"
      ]
     },
     "execution_count": 20,
     "metadata": {},
     "output_type": "execute_result"
    },
    {
     "data": {
      "image/png": "[encoded data removed]",
      "text/plain": [
       "<Figure size 432x288 with 1 Axes>"
      ]
     },
     "metadata": {
      "image/png": {
       "height": 263,
       "width": 364
      },
      "needs_background": "light"
     },
     "output_type": "display_data"
    }
   ],
   "source": [
    "# plot distribution plot for 'Rate'\n",
    "sns.distplot(df['Rate'], kde=False, bins=len(df['Rate']))"
   ]
  },
  {
   "cell_type": "code",
   "execution_count": 21,
   "metadata": {},
   "outputs": [
    {
     "data": {
      "text/plain": [
       "count     52.000000\n",
       "mean     531.500000\n",
       "std       36.014975\n",
       "min      439.000000\n",
       "25%      504.000000\n",
       "50%      521.000000\n",
       "75%      555.750000\n",
       "max      603.000000\n",
       "Name: Math, dtype: float64"
      ]
     },
     "execution_count": 21,
     "metadata": {},
     "output_type": "execute_result"
    }
   ],
   "source": [
    "#Q3.1 cont\n",
    "\n",
    "# Check 'Math' data\n",
    "df['Math'].describe()"
   ]
  },
  {
   "cell_type": "code",
   "execution_count": 22,
   "metadata": {},
   "outputs": [
    {
     "data": {
      "text/plain": [
       "<matplotlib.axes._subplots.AxesSubplot at 0x1fc807f5518>"
      ]
     },
     "execution_count": 22,
     "metadata": {},
     "output_type": "execute_result"
    },
    {
     "data": {
      "image/png": "[encoded data removed]",
      "text/plain": [
       "<Figure size 432x288 with 1 Axes>"
      ]
     },
     "metadata": {
      "image/png": {
       "height": 263,
       "width": 364
      },
      "needs_background": "light"
     },
     "output_type": "display_data"
    }
   ],
   "source": [
    "# plot distribution plot for 'Math'\n",
    "sns.distplot(df['Math'], kde=False, bins=len(df['Rate']))"
   ]
  },
  {
   "cell_type": "code",
   "execution_count": 23,
   "metadata": {},
   "outputs": [
    {
     "data": {
      "text/plain": [
       "count     52.000000\n",
       "mean     532.019231\n",
       "std       33.236225\n",
       "min      482.000000\n",
       "25%      501.000000\n",
       "50%      526.500000\n",
       "75%      562.000000\n",
       "max      593.000000\n",
       "Name: Verbal, dtype: float64"
      ]
     },
     "execution_count": 23,
     "metadata": {},
     "output_type": "execute_result"
    }
   ],
   "source": [
    "#Q3.1 cont\n",
    "\n",
    "# Check 'Verbal' data\n",
    "df['Verbal'].describe()"
   ]
  },
  {
   "cell_type": "code",
   "execution_count": 24,
   "metadata": {},
   "outputs": [
    {
     "data": {
      "text/plain": [
       "<matplotlib.axes._subplots.AxesSubplot at 0x1fc8080def0>"
      ]
     },
     "execution_count": 24,
     "metadata": {},
     "output_type": "execute_result"
    },
    {
     "data": {
      "image/png": "[encoded data removed]",
      "text/plain": [
       "<Figure size 432x288 with 1 Axes>"
      ]
     },
     "metadata": {
      "image/png": {
       "height": 263,
       "width": 373
      },
      "needs_background": "light"
     },
     "output_type": "display_data"
    }
   ],
   "source": [
    "# plot distribution plot for 'Verbal'\n",
    "sns.distplot(df['Verbal'], kde=False, bins=len(df['Rate']))"
   ]
  },
  {
   "cell_type": "markdown",
   "metadata": {},
   "source": [
    "### 3.2 Using seaborn's `pairplot`, show the joint distributions for each of `Rate`, `Math`, and `Verbal`\n",
    "\n",
    "Explain what the visualization tells you about your data.\n",
    "\n",
    "[Please read over the `pairplot` documentation to fine-tune your chart.](https://stanford.edu/~mwaskom/software/seaborn/generated/seaborn.pairplot.html#seaborn.pairplot)"
   ]
  },
  {
   "cell_type": "code",
   "execution_count": 25,
   "metadata": {},
   "outputs": [
    {
     "data": {
      "text/plain": [
       "<seaborn.axisgrid.PairGrid at 0x1fc81997c50>"
      ]
     },
     "execution_count": 25,
     "metadata": {},
     "output_type": "execute_result"
    },
    {
     "data": {
      "image/png": "[encoded data removed]",
      "text/plain": [
       "<Figure size 540x540 with 12 Axes>"
      ]
     },
     "metadata": {
      "image/png": {
       "height": 529,
       "width": 526
      },
      "needs_background": "light"
     },
     "output_type": "display_data"
    }
   ],
   "source": [
    "#Q3.2\n",
    "\n",
    "# Plot joint distibution of each pair of 'Rate', 'Math' and 'Verbal'\n",
    "sns.pairplot(df)\n"
   ]
  },
  {
   "cell_type": "code",
   "execution_count": 26,
   "metadata": {},
   "outputs": [
    {
     "data": {
      "text/plain": [
       "<matplotlib.axes._subplots.AxesSubplot at 0x1fc82cabeb8>"
      ]
     },
     "execution_count": 26,
     "metadata": {},
     "output_type": "execute_result"
    },
    {
     "data": {
      "image/png": "[encoded data removed]",
      "text/plain": [
       "<Figure size 432x288 with 2 Axes>"
      ]
     },
     "metadata": {
      "image/png": {
       "height": 250,
       "width": 357
      },
      "needs_background": "light"
     },
     "output_type": "display_data"
    }
   ],
   "source": [
    "#Q3.2 cont\n",
    "# From the pair plots above, there is a strong positive linear correlation between..\n",
    "# .. Math and Verval scores.\n",
    "# The rate of participation has a strong negative correlation with both math and verbal scores.\n",
    "\n",
    "sns.heatmap(df.corr(), annot=True)"
   ]
  },
  {
   "cell_type": "markdown",
   "metadata": {},
   "source": [
    "<img src=\"http://imgur.com/l5NasQj.png\" style=\"float: left; margin: 25px 15px 0px 0px; height: 25px\">\n",
    "\n",
    "## 4. Plot the data using built-in pandas functions.\n",
    "\n",
    "---\n",
    "\n",
    "Pandas is very powerful and contains a variety of nice, built-in plotting functions for your data. Read the documentation here to understand the capabilities:\n",
    "\n",
    "http://pandas.pydata.org/pandas-docs/stable/visualization.html\n",
    "\n",
    "### 4.1 Plot a stacked histogram with `Verbal` and `Math` using pandas"
   ]
  },
  {
   "cell_type": "code",
   "execution_count": 27,
   "metadata": {},
   "outputs": [
    {
     "data": {
      "text/plain": [
       "<matplotlib.axes._subplots.AxesSubplot at 0x1fc82d5a128>"
      ]
     },
     "execution_count": 27,
     "metadata": {},
     "output_type": "execute_result"
    },
    {
     "data": {
      "image/png": "[encoded data removed]",
      "text/plain": [
       "<Figure size 432x288 with 1 Axes>"
      ]
     },
     "metadata": {
      "image/png": {
       "height": 250,
       "width": 384
      },
      "needs_background": "light"
     },
     "output_type": "display_data"
    }
   ],
   "source": [
    "#Q4.1\n",
    "\n",
    "# plot a stacked histogram with Verbal and Math\n",
    "\n",
    "df[['Verbal', 'Math']].plot(kind='hist', stacked = True, bins = len(df['Rate']))"
   ]
  },
  {
   "cell_type": "markdown",
   "metadata": {},
   "source": [
    "### 4.2 Plot `Verbal` and `Math` on the same chart using boxplots\n",
    "\n",
    "What are the benefits of using a boxplot as compared to a scatterplot or a histogram?\n",
    "\n",
    "What's wrong with plotting a box-plot of `Rate` on the same chart as `Math` and `Verbal`?"
   ]
  },
  {
   "cell_type": "code",
   "execution_count": 28,
   "metadata": {},
   "outputs": [
    {
     "data": {
      "text/plain": [
       "<matplotlib.axes._subplots.AxesSubplot at 0x1fc8237ee10>"
      ]
     },
     "execution_count": 28,
     "metadata": {},
     "output_type": "execute_result"
    },
    {
     "data": {
      "image/png": "[encoded data removed]",
      "text/plain": [
       "<Figure size 432x288 with 1 Axes>"
      ]
     },
     "metadata": {
      "image/png": {
       "height": 250,
       "width": 377
      },
      "needs_background": "light"
     },
     "output_type": "display_data"
    }
   ],
   "source": [
    "#Q4.2\n",
    "\n",
    "# plot a box diagram with Verbal and Math on the same chart\n",
    "df[['Rate', 'Verbal', 'Math']].plot(kind='box')"
   ]
  },
  {
   "cell_type": "code",
   "execution_count": 29,
   "metadata": {},
   "outputs": [
    {
     "data": {
      "text/plain": [
       "<matplotlib.axes._subplots.AxesSubplot at 0x1fc830bb5c0>"
      ]
     },
     "execution_count": 29,
     "metadata": {},
     "output_type": "execute_result"
    },
    {
     "data": {
      "image/png": "[encoded data removed]",
      "text/plain": [
       "<Figure size 432x288 with 1 Axes>"
      ]
     },
     "metadata": {
      "image/png": {
       "height": 250,
       "width": 377
      },
      "needs_background": "light"
     },
     "output_type": "display_data"
    }
   ],
   "source": [
    "# plot a box diagram with Verbal and Math on the same chart\n",
    "df[['Verbal', 'Math']].plot(kind='box')"
   ]
  },
  {
   "cell_type": "code",
   "execution_count": 30,
   "metadata": {},
   "outputs": [],
   "source": [
    "#Q4.2 cont\n",
    "\n",
    "# Plotting a box-plot of 'Rate' is not practical as the scale for Rate is much smaller than the values of 'Verbal' and 'Math'"
   ]
  },
  {
   "cell_type": "markdown",
   "metadata": {},
   "source": [
    "<img src=\"http://imgur.com/xDpSobf.png\" style=\"float: left; margin: 25px 15px 0px 0px; height: 25px\">\n",
    "\n",
    "### 4.3 Plot `Verbal`, `Math`, and `Rate` appropriately on the same boxplot chart\n",
    "\n",
    "Think about how you might change the variables so that they would make sense on the same chart. Explain your rationale for the choices on the chart. You should strive to make the chart as intuitive as possible. \n"
   ]
  },
  {
   "cell_type": "code",
   "execution_count": 31,
   "metadata": {},
   "outputs": [],
   "source": [
    "# Q4.3\n",
    "\n",
    "# Boxplot 'Verbal', 'Math' and 'Rate' on the same chart by standardising the values\n",
    "\n",
    "norm_dict = {}\n",
    "\n",
    "\n",
    "\n",
    "for item in df.columns:  # iterate through each of 'State', 'Rate', 'Verbal', 'Math'\n",
    "    #print(df[item].dtypes)\n",
    "    \n",
    "    \n",
    "    \n",
    "    if df[item].dtypes == 'object':\n",
    "        norm_dict[item] = df[item].values.tolist()  # convert array of values to a list\n",
    "        #print(norm_dict)\n",
    "    \n",
    "    else:\n",
    "        norm_list = []\n",
    "        \n",
    "        for i in range(len(df[item])):  # iterate through all values under each column\n",
    "            #print(i) #gives 52 x 3 values\n",
    "            \n",
    "            z = (df[item][i] - df[item].mean())/df[item].std()  # calculate standardised value for each cell\n",
    "            #print(z) #gives 52 x 3 standardised values\n",
    "            \n",
    "            norm_list.append(z) \n",
    "            #print(norm_list) # gives 3 lists of standardised values for each column\n",
    "            norm_dict[item] = norm_list\n",
    "        norm_dict\n",
    "\n",
    "#print(norm_dict)  # gives {'item' : [norm_list]}"
   ]
  },
  {
   "cell_type": "code",
   "execution_count": 32,
   "metadata": {},
   "outputs": [
    {
     "data": {
      "text/html": [
       "<div>\n",
       "<style scoped>\n",
       "    .dataframe tbody tr th:only-of-type {\n",
       "        vertical-align: middle;\n",
       "    }\n",
       "\n",
       "    .dataframe tbody tr th {\n",
       "        vertical-align: top;\n",
       "    }\n",
       "\n",
       "    .dataframe thead th {\n",
       "        text-align: right;\n",
       "    }\n",
       "</style>\n",
       "<table border=\"1\" class=\"dataframe\">\n",
       "  <thead>\n",
       "    <tr style=\"text-align: right;\">\n",
       "      <th></th>\n",
       "      <th>State</th>\n",
       "      <th>Rate</th>\n",
       "      <th>Verbal</th>\n",
       "      <th>Math</th>\n",
       "    </tr>\n",
       "  </thead>\n",
       "  <tbody>\n",
       "    <tr>\n",
       "      <th>0</th>\n",
       "      <td>CT</td>\n",
       "      <td>1.642609</td>\n",
       "      <td>-0.692595</td>\n",
       "      <td>-0.596974</td>\n",
       "    </tr>\n",
       "    <tr>\n",
       "      <th>1</th>\n",
       "      <td>NJ</td>\n",
       "      <td>1.605981</td>\n",
       "      <td>-0.993471</td>\n",
       "      <td>-0.513675</td>\n",
       "    </tr>\n",
       "    <tr>\n",
       "      <th>2</th>\n",
       "      <td>MA</td>\n",
       "      <td>1.532726</td>\n",
       "      <td>-0.632419</td>\n",
       "      <td>-0.458143</td>\n",
       "    </tr>\n",
       "    <tr>\n",
       "      <th>3</th>\n",
       "      <td>NY</td>\n",
       "      <td>1.459470</td>\n",
       "      <td>-1.113822</td>\n",
       "      <td>-0.735805</td>\n",
       "    </tr>\n",
       "    <tr>\n",
       "      <th>4</th>\n",
       "      <td>NH</td>\n",
       "      <td>1.276332</td>\n",
       "      <td>-0.361630</td>\n",
       "      <td>-0.430377</td>\n",
       "    </tr>\n",
       "  </tbody>\n",
       "</table>\n",
       "</div>"
      ],
      "text/plain": [
       "  State      Rate    Verbal      Math\n",
       "0    CT  1.642609 -0.692595 -0.596974\n",
       "1    NJ  1.605981 -0.993471 -0.513675\n",
       "2    MA  1.532726 -0.632419 -0.458143\n",
       "3    NY  1.459470 -1.113822 -0.735805\n",
       "4    NH  1.276332 -0.361630 -0.430377"
      ]
     },
     "execution_count": 32,
     "metadata": {},
     "output_type": "execute_result"
    }
   ],
   "source": [
    "norm_df = pd.DataFrame(norm_dict)  # put dictionary into a data frame\n",
    "norm_df.head()"
   ]
  },
  {
   "cell_type": "code",
   "execution_count": 33,
   "metadata": {},
   "outputs": [
    {
     "data": {
      "text/plain": [
       "(52, 4)"
      ]
     },
     "execution_count": 33,
     "metadata": {},
     "output_type": "execute_result"
    }
   ],
   "source": [
    "norm_df.shape"
   ]
  },
  {
   "cell_type": "code",
   "execution_count": 34,
   "metadata": {},
   "outputs": [
    {
     "data": {
      "text/html": [
       "<div>\n",
       "<style scoped>\n",
       "    .dataframe tbody tr th:only-of-type {\n",
       "        vertical-align: middle;\n",
       "    }\n",
       "\n",
       "    .dataframe tbody tr th {\n",
       "        vertical-align: top;\n",
       "    }\n",
       "\n",
       "    .dataframe thead th {\n",
       "        text-align: right;\n",
       "    }\n",
       "</style>\n",
       "<table border=\"1\" class=\"dataframe\">\n",
       "  <thead>\n",
       "    <tr style=\"text-align: right;\">\n",
       "      <th></th>\n",
       "      <th>Rate</th>\n",
       "      <th>Verbal</th>\n",
       "      <th>Math</th>\n",
       "    </tr>\n",
       "  </thead>\n",
       "  <tbody>\n",
       "    <tr>\n",
       "      <th>count</th>\n",
       "      <td>5.200000e+01</td>\n",
       "      <td>5.200000e+01</td>\n",
       "      <td>5.200000e+01</td>\n",
       "    </tr>\n",
       "    <tr>\n",
       "      <th>mean</th>\n",
       "      <td>2.167070e-16</td>\n",
       "      <td>1.558582e-15</td>\n",
       "      <td>-2.135044e-18</td>\n",
       "    </tr>\n",
       "    <tr>\n",
       "      <th>std</th>\n",
       "      <td>1.000000e+00</td>\n",
       "      <td>1.000000e+00</td>\n",
       "      <td>1.000000e+00</td>\n",
       "    </tr>\n",
       "    <tr>\n",
       "      <th>min</th>\n",
       "      <td>-1.214347e+00</td>\n",
       "      <td>-1.504961e+00</td>\n",
       "      <td>-2.568376e+00</td>\n",
       "    </tr>\n",
       "    <tr>\n",
       "      <th>25%</th>\n",
       "      <td>-1.031209e+00</td>\n",
       "      <td>-9.332958e-01</td>\n",
       "      <td>-7.635713e-01</td>\n",
       "    </tr>\n",
       "    <tr>\n",
       "      <th>50%</th>\n",
       "      <td>-1.338318e-01</td>\n",
       "      <td>-1.660607e-01</td>\n",
       "      <td>-2.915454e-01</td>\n",
       "    </tr>\n",
       "    <tr>\n",
       "      <th>75%</th>\n",
       "      <td>9.649974e-01</td>\n",
       "      <td>9.020510e-01</td>\n",
       "      <td>6.733310e-01</td>\n",
       "    </tr>\n",
       "    <tr>\n",
       "      <th>max</th>\n",
       "      <td>1.642609e+00</td>\n",
       "      <td>1.834768e+00</td>\n",
       "      <td>1.985285e+00</td>\n",
       "    </tr>\n",
       "  </tbody>\n",
       "</table>\n",
       "</div>"
      ],
      "text/plain": [
       "               Rate        Verbal          Math\n",
       "count  5.200000e+01  5.200000e+01  5.200000e+01\n",
       "mean   2.167070e-16  1.558582e-15 -2.135044e-18\n",
       "std    1.000000e+00  1.000000e+00  1.000000e+00\n",
       "min   -1.214347e+00 -1.504961e+00 -2.568376e+00\n",
       "25%   -1.031209e+00 -9.332958e-01 -7.635713e-01\n",
       "50%   -1.338318e-01 -1.660607e-01 -2.915454e-01\n",
       "75%    9.649974e-01  9.020510e-01  6.733310e-01\n",
       "max    1.642609e+00  1.834768e+00  1.985285e+00"
      ]
     },
     "execution_count": 34,
     "metadata": {},
     "output_type": "execute_result"
    }
   ],
   "source": [
    "norm_df.describe()"
   ]
  },
  {
   "cell_type": "code",
   "execution_count": 35,
   "metadata": {},
   "outputs": [
    {
     "data": {
      "text/plain": [
       "<matplotlib.axes._subplots.AxesSubplot at 0x1fc83297b00>"
      ]
     },
     "execution_count": 35,
     "metadata": {},
     "output_type": "execute_result"
    },
    {
     "data": {
      "image/png": "[encoded data removed]",
      "text/plain": [
       "<Figure size 432x288 with 1 Axes>"
      ]
     },
     "metadata": {
      "image/png": {
       "height": 250,
       "width": 372
      },
      "needs_background": "light"
     },
     "output_type": "display_data"
    }
   ],
   "source": [
    "# plot a box diagram with Rate, Verbal and Math on the same chart\n",
    "\n",
    "norm_df[['Rate', 'Verbal', 'Math']].plot(kind='box')"
   ]
  },
  {
   "cell_type": "markdown",
   "metadata": {},
   "source": [
    "<img src=\"http://imgur.com/l5NasQj.png\" style=\"float: left; margin: 25px 15px 0px 0px; height: 25px\">\n",
    "\n",
    "## 5. Create and examine subsets of the data\n",
    "\n",
    "---\n",
    "\n",
    "For these questions you will practice **masking** in pandas. Masking uses conditional statements to select portions of your DataFrame (through boolean operations under the hood.)\n",
    "\n",
    "Remember the distinction between DataFrame indexing functions in pandas:\n",
    "\n",
    "    .iloc[row, col] : row and column are specified by index, which are integers\n",
    "    .loc[row, col]  : row and column are specified by string \"labels\" (boolean arrays are allowed; useful for rows)\n",
    "    .ix[row, col]   : row and column indexers can be a mix of labels and integer indices\n",
    "    \n",
    "For detailed reference and tutorial make sure to read over the pandas documentation:\n",
    "\n",
    "http://pandas.pydata.org/pandas-docs/stable/indexing.html\n",
    "\n",
    "\n",
    "\n",
    "### 5.1 Find the list of states that have `Verbal` scores greater than the average of `Verbal` scores across states\n",
    "\n",
    "How many states are above the mean? What does this tell you about the distribution of `Verbal` scores?\n",
    "\n",
    "\n"
   ]
  },
  {
   "cell_type": "code",
   "execution_count": 36,
   "metadata": {},
   "outputs": [
    {
     "data": {
      "text/html": [
       "<div>\n",
       "<style scoped>\n",
       "    .dataframe tbody tr th:only-of-type {\n",
       "        vertical-align: middle;\n",
       "    }\n",
       "\n",
       "    .dataframe tbody tr th {\n",
       "        vertical-align: top;\n",
       "    }\n",
       "\n",
       "    .dataframe thead th {\n",
       "        text-align: right;\n",
       "    }\n",
       "</style>\n",
       "<table border=\"1\" class=\"dataframe\">\n",
       "  <thead>\n",
       "    <tr style=\"text-align: right;\">\n",
       "      <th></th>\n",
       "      <th>State</th>\n",
       "      <th>Rate</th>\n",
       "      <th>Verbal</th>\n",
       "      <th>Math</th>\n",
       "    </tr>\n",
       "  </thead>\n",
       "  <tbody>\n",
       "    <tr>\n",
       "      <th>26</th>\n",
       "      <td>CO</td>\n",
       "      <td>31</td>\n",
       "      <td>539</td>\n",
       "      <td>542</td>\n",
       "    </tr>\n",
       "    <tr>\n",
       "      <th>27</th>\n",
       "      <td>OH</td>\n",
       "      <td>26</td>\n",
       "      <td>534</td>\n",
       "      <td>439</td>\n",
       "    </tr>\n",
       "    <tr>\n",
       "      <th>28</th>\n",
       "      <td>MT</td>\n",
       "      <td>23</td>\n",
       "      <td>539</td>\n",
       "      <td>539</td>\n",
       "    </tr>\n",
       "    <tr>\n",
       "      <th>30</th>\n",
       "      <td>ID</td>\n",
       "      <td>17</td>\n",
       "      <td>543</td>\n",
       "      <td>542</td>\n",
       "    </tr>\n",
       "    <tr>\n",
       "      <th>31</th>\n",
       "      <td>TN</td>\n",
       "      <td>13</td>\n",
       "      <td>562</td>\n",
       "      <td>553</td>\n",
       "    </tr>\n",
       "  </tbody>\n",
       "</table>\n",
       "</div>"
      ],
      "text/plain": [
       "   State  Rate  Verbal  Math\n",
       "26    CO    31     539   542\n",
       "27    OH    26     534   439\n",
       "28    MT    23     539   539\n",
       "30    ID    17     543   542\n",
       "31    TN    13     562   553"
      ]
     },
     "execution_count": 36,
     "metadata": {},
     "output_type": "execute_result"
    }
   ],
   "source": [
    "# Q5.1\n",
    "\n",
    "# Find mean of the 'Verbal'\n",
    "\n",
    "mean_verbal = df['Verbal'].mean() \n",
    "#print(mean_verbal) # gives 532.0192307692307\n",
    "\n",
    "smart_verbal_mean = df['Verbal'] > mean_verbal\n",
    "df[smart_verbal_mean].head()"
   ]
  },
  {
   "cell_type": "code",
   "execution_count": 37,
   "metadata": {},
   "outputs": [
    {
     "data": {
      "text/plain": [
       "(24, 4)"
      ]
     },
     "execution_count": 37,
     "metadata": {},
     "output_type": "execute_result"
    }
   ],
   "source": [
    "# Q5.1 cont\n",
    "\n",
    "# number of states above mean\n",
    "df[smart_verbal_mean].shape\n",
    "\n",
    "# there are 24 states with Verbal scores above mean out of 52 states\n",
    "\n",
    "# From the data on 'Verbal', there are about half of entire states above mean."
   ]
  },
  {
   "cell_type": "markdown",
   "metadata": {},
   "source": [
    "### 5.2 Find the list of states that have `Verbal` scores greater than the median of `Verbal` scores across states\n",
    "\n",
    "How does this compare to the list of states greater than the mean of `Verbal` scores? Why?"
   ]
  },
  {
   "cell_type": "code",
   "execution_count": 38,
   "metadata": {},
   "outputs": [
    {
     "data": {
      "text/html": [
       "<div>\n",
       "<style scoped>\n",
       "    .dataframe tbody tr th:only-of-type {\n",
       "        vertical-align: middle;\n",
       "    }\n",
       "\n",
       "    .dataframe tbody tr th {\n",
       "        vertical-align: top;\n",
       "    }\n",
       "\n",
       "    .dataframe thead th {\n",
       "        text-align: right;\n",
       "    }\n",
       "</style>\n",
       "<table border=\"1\" class=\"dataframe\">\n",
       "  <thead>\n",
       "    <tr style=\"text-align: right;\">\n",
       "      <th></th>\n",
       "      <th>State</th>\n",
       "      <th>Rate</th>\n",
       "      <th>Verbal</th>\n",
       "      <th>Math</th>\n",
       "    </tr>\n",
       "  </thead>\n",
       "  <tbody>\n",
       "    <tr>\n",
       "      <th>19</th>\n",
       "      <td>WA</td>\n",
       "      <td>53</td>\n",
       "      <td>527</td>\n",
       "      <td>527</td>\n",
       "    </tr>\n",
       "    <tr>\n",
       "      <th>26</th>\n",
       "      <td>CO</td>\n",
       "      <td>31</td>\n",
       "      <td>539</td>\n",
       "      <td>542</td>\n",
       "    </tr>\n",
       "    <tr>\n",
       "      <th>27</th>\n",
       "      <td>OH</td>\n",
       "      <td>26</td>\n",
       "      <td>534</td>\n",
       "      <td>439</td>\n",
       "    </tr>\n",
       "    <tr>\n",
       "      <th>28</th>\n",
       "      <td>MT</td>\n",
       "      <td>23</td>\n",
       "      <td>539</td>\n",
       "      <td>539</td>\n",
       "    </tr>\n",
       "    <tr>\n",
       "      <th>29</th>\n",
       "      <td>WV</td>\n",
       "      <td>18</td>\n",
       "      <td>527</td>\n",
       "      <td>512</td>\n",
       "    </tr>\n",
       "  </tbody>\n",
       "</table>\n",
       "</div>"
      ],
      "text/plain": [
       "   State  Rate  Verbal  Math\n",
       "19    WA    53     527   527\n",
       "26    CO    31     539   542\n",
       "27    OH    26     534   439\n",
       "28    MT    23     539   539\n",
       "29    WV    18     527   512"
      ]
     },
     "execution_count": 38,
     "metadata": {},
     "output_type": "execute_result"
    }
   ],
   "source": [
    "# Q5.2\n",
    "\n",
    "# Find median of the 'Verbal'\n",
    "\n",
    "median_verbal = df['Verbal'].median() \n",
    "#print(median_verbal) # gives 526.5\n",
    "\n",
    "smart_verbal_median = df['Verbal'] > median_verbal\n",
    "df[smart_verbal_median].head()"
   ]
  },
  {
   "cell_type": "code",
   "execution_count": 39,
   "metadata": {},
   "outputs": [
    {
     "data": {
      "text/plain": [
       "(26, 4)"
      ]
     },
     "execution_count": 39,
     "metadata": {},
     "output_type": "execute_result"
    }
   ],
   "source": [
    "# Q5.2 cont\n",
    "\n",
    "# find number of states that have 'Verbal' score greater than median score\n",
    "df[smart_verbal_median].shape\n",
    "\n",
    "# There are more states with 'Verbal' score > median than  score > mean.\n",
    "# This indicates mean > median\n",
    "# The distribution is slightly skewed to the left. (negatively skewed)"
   ]
  },
  {
   "cell_type": "markdown",
   "metadata": {},
   "source": [
    "### 5.3 Create a column that is the difference between the `Verbal` and `Math` scores\n",
    "\n",
    "Specifically, this should be `Verbal - Math`."
   ]
  },
  {
   "cell_type": "code",
   "execution_count": 40,
   "metadata": {},
   "outputs": [
    {
     "data": {
      "text/html": [
       "<div>\n",
       "<style scoped>\n",
       "    .dataframe tbody tr th:only-of-type {\n",
       "        vertical-align: middle;\n",
       "    }\n",
       "\n",
       "    .dataframe tbody tr th {\n",
       "        vertical-align: top;\n",
       "    }\n",
       "\n",
       "    .dataframe thead th {\n",
       "        text-align: right;\n",
       "    }\n",
       "</style>\n",
       "<table border=\"1\" class=\"dataframe\">\n",
       "  <thead>\n",
       "    <tr style=\"text-align: right;\">\n",
       "      <th></th>\n",
       "      <th>State</th>\n",
       "      <th>Rate</th>\n",
       "      <th>Verbal</th>\n",
       "      <th>Math</th>\n",
       "      <th>score_difference</th>\n",
       "    </tr>\n",
       "  </thead>\n",
       "  <tbody>\n",
       "    <tr>\n",
       "      <th>0</th>\n",
       "      <td>CT</td>\n",
       "      <td>82</td>\n",
       "      <td>509</td>\n",
       "      <td>510</td>\n",
       "      <td>-1</td>\n",
       "    </tr>\n",
       "    <tr>\n",
       "      <th>1</th>\n",
       "      <td>NJ</td>\n",
       "      <td>81</td>\n",
       "      <td>499</td>\n",
       "      <td>513</td>\n",
       "      <td>-14</td>\n",
       "    </tr>\n",
       "    <tr>\n",
       "      <th>2</th>\n",
       "      <td>MA</td>\n",
       "      <td>79</td>\n",
       "      <td>511</td>\n",
       "      <td>515</td>\n",
       "      <td>-4</td>\n",
       "    </tr>\n",
       "    <tr>\n",
       "      <th>3</th>\n",
       "      <td>NY</td>\n",
       "      <td>77</td>\n",
       "      <td>495</td>\n",
       "      <td>505</td>\n",
       "      <td>-10</td>\n",
       "    </tr>\n",
       "    <tr>\n",
       "      <th>4</th>\n",
       "      <td>NH</td>\n",
       "      <td>72</td>\n",
       "      <td>520</td>\n",
       "      <td>516</td>\n",
       "      <td>4</td>\n",
       "    </tr>\n",
       "  </tbody>\n",
       "</table>\n",
       "</div>"
      ],
      "text/plain": [
       "  State  Rate  Verbal  Math  score_difference\n",
       "0    CT    82     509   510                -1\n",
       "1    NJ    81     499   513               -14\n",
       "2    MA    79     511   515                -4\n",
       "3    NY    77     495   505               -10\n",
       "4    NH    72     520   516                 4"
      ]
     },
     "execution_count": 40,
     "metadata": {},
     "output_type": "execute_result"
    }
   ],
   "source": [
    "# Q5.3\n",
    "\n",
    "# create a column which is 'Verbal' minus 'Math'\n",
    "df_added = df.assign(score_difference = df['Verbal'] - df['Math'])\n",
    "\n",
    "df_added.head()"
   ]
  },
  {
   "cell_type": "markdown",
   "metadata": {},
   "source": [
    "### 5.4 Create two new DataFrames showing states with the greatest difference between scores\n",
    "\n",
    "1. Your first DataFrame should be the 10 states with the greatest gap between `Verbal` and `Math` scores where `Verbal` is greater than `Math`. It should be sorted appropriately to show the ranking of states.\n",
    "2. Your second DataFrame will be the inverse: states with the greatest gap between `Verbal` and `Math` such that `Math` is greater than `Verbal`. Again, this should be sorted appropriately to show rank.\n",
    "3. Print the header of both variables, only showing the top 3 states in each."
   ]
  },
  {
   "cell_type": "code",
   "execution_count": 41,
   "metadata": {},
   "outputs": [
    {
     "data": {
      "text/html": [
       "<div>\n",
       "<style scoped>\n",
       "    .dataframe tbody tr th:only-of-type {\n",
       "        vertical-align: middle;\n",
       "    }\n",
       "\n",
       "    .dataframe tbody tr th {\n",
       "        vertical-align: top;\n",
       "    }\n",
       "\n",
       "    .dataframe thead th {\n",
       "        text-align: right;\n",
       "    }\n",
       "</style>\n",
       "<table border=\"1\" class=\"dataframe\">\n",
       "  <thead>\n",
       "    <tr style=\"text-align: right;\">\n",
       "      <th></th>\n",
       "      <th>State</th>\n",
       "      <th>Rate</th>\n",
       "      <th>Verbal</th>\n",
       "      <th>Math</th>\n",
       "      <th>score_difference</th>\n",
       "    </tr>\n",
       "  </thead>\n",
       "  <tbody>\n",
       "    <tr>\n",
       "      <th>21</th>\n",
       "      <td>HI</td>\n",
       "      <td>52</td>\n",
       "      <td>485</td>\n",
       "      <td>515</td>\n",
       "      <td>-30</td>\n",
       "    </tr>\n",
       "    <tr>\n",
       "      <th>23</th>\n",
       "      <td>CA</td>\n",
       "      <td>51</td>\n",
       "      <td>498</td>\n",
       "      <td>517</td>\n",
       "      <td>-19</td>\n",
       "    </tr>\n",
       "    <tr>\n",
       "      <th>1</th>\n",
       "      <td>NJ</td>\n",
       "      <td>81</td>\n",
       "      <td>499</td>\n",
       "      <td>513</td>\n",
       "      <td>-14</td>\n",
       "    </tr>\n",
       "  </tbody>\n",
       "</table>\n",
       "</div>"
      ],
      "text/plain": [
       "   State  Rate  Verbal  Math  score_difference\n",
       "21    HI    52     485   515               -30\n",
       "23    CA    51     498   517               -19\n",
       "1     NJ    81     499   513               -14"
      ]
     },
     "execution_count": 41,
     "metadata": {},
     "output_type": "execute_result"
    }
   ],
   "source": [
    "# Q5.4.1\n",
    "\n",
    "# First 10 states with greatest gap between 'Verbal' and 'Math' where 'Verbal' > 'Math' \n",
    "\n",
    "df_10_Verbal = df_added.sort_values(by='score_difference', ascending=True).head(10)\n",
    "\n",
    "df_10_Verbal.head(3)"
   ]
  },
  {
   "cell_type": "code",
   "execution_count": 42,
   "metadata": {},
   "outputs": [
    {
     "data": {
      "text/html": [
       "<div>\n",
       "<style scoped>\n",
       "    .dataframe tbody tr th:only-of-type {\n",
       "        vertical-align: middle;\n",
       "    }\n",
       "\n",
       "    .dataframe tbody tr th {\n",
       "        vertical-align: top;\n",
       "    }\n",
       "\n",
       "    .dataframe thead th {\n",
       "        text-align: right;\n",
       "    }\n",
       "</style>\n",
       "<table border=\"1\" class=\"dataframe\">\n",
       "  <thead>\n",
       "    <tr style=\"text-align: right;\">\n",
       "      <th></th>\n",
       "      <th>State</th>\n",
       "      <th>Rate</th>\n",
       "      <th>Verbal</th>\n",
       "      <th>Math</th>\n",
       "      <th>score_difference</th>\n",
       "    </tr>\n",
       "  </thead>\n",
       "  <tbody>\n",
       "    <tr>\n",
       "      <th>27</th>\n",
       "      <td>OH</td>\n",
       "      <td>26</td>\n",
       "      <td>534</td>\n",
       "      <td>439</td>\n",
       "      <td>95</td>\n",
       "    </tr>\n",
       "    <tr>\n",
       "      <th>50</th>\n",
       "      <td>MS</td>\n",
       "      <td>4</td>\n",
       "      <td>566</td>\n",
       "      <td>551</td>\n",
       "      <td>15</td>\n",
       "    </tr>\n",
       "    <tr>\n",
       "      <th>29</th>\n",
       "      <td>WV</td>\n",
       "      <td>18</td>\n",
       "      <td>527</td>\n",
       "      <td>512</td>\n",
       "      <td>15</td>\n",
       "    </tr>\n",
       "  </tbody>\n",
       "</table>\n",
       "</div>"
      ],
      "text/plain": [
       "   State  Rate  Verbal  Math  score_difference\n",
       "27    OH    26     534   439                95\n",
       "50    MS     4     566   551                15\n",
       "29    WV    18     527   512                15"
      ]
     },
     "execution_count": 42,
     "metadata": {},
     "output_type": "execute_result"
    }
   ],
   "source": [
    "# Q5.4.2\n",
    "\n",
    "# First 10 states with greatest gap between 'Verbal' and 'Math' where  'Math' > 'Verbal'\n",
    "\n",
    "df_10_Math = df_added.sort_values(by='score_difference', ascending=False).head(10)\n",
    "\n",
    "df_10_Math.head(3)"
   ]
  },
  {
   "cell_type": "markdown",
   "metadata": {},
   "source": [
    "## 6. Examine summary statistics\n",
    "\n",
    "---\n",
    "\n",
    "Checking the summary statistics for data is an essential step in the EDA process!\n",
    "\n",
    "<img src=\"http://imgur.com/l5NasQj.png\" style=\"float: left; margin: 25px 15px 0px 0px; height: 25px\">\n",
    "\n",
    "### 6.1 Create the correlation matrix of your variables (excluding `State`).\n",
    "\n",
    "What does the correlation matrix tell you?\n"
   ]
  },
  {
   "cell_type": "code",
   "execution_count": 43,
   "metadata": {},
   "outputs": [
    {
     "data": {
      "text/html": [
       "<div>\n",
       "<style scoped>\n",
       "    .dataframe tbody tr th:only-of-type {\n",
       "        vertical-align: middle;\n",
       "    }\n",
       "\n",
       "    .dataframe tbody tr th {\n",
       "        vertical-align: top;\n",
       "    }\n",
       "\n",
       "    .dataframe thead th {\n",
       "        text-align: right;\n",
       "    }\n",
       "</style>\n",
       "<table border=\"1\" class=\"dataframe\">\n",
       "  <thead>\n",
       "    <tr style=\"text-align: right;\">\n",
       "      <th></th>\n",
       "      <th>Rate</th>\n",
       "      <th>Verbal</th>\n",
       "      <th>Math</th>\n",
       "    </tr>\n",
       "  </thead>\n",
       "  <tbody>\n",
       "    <tr>\n",
       "      <th>Rate</th>\n",
       "      <td>1.000000</td>\n",
       "      <td>-0.886432</td>\n",
       "      <td>-0.773746</td>\n",
       "    </tr>\n",
       "    <tr>\n",
       "      <th>Verbal</th>\n",
       "      <td>-0.886432</td>\n",
       "      <td>1.000000</td>\n",
       "      <td>0.899871</td>\n",
       "    </tr>\n",
       "    <tr>\n",
       "      <th>Math</th>\n",
       "      <td>-0.773746</td>\n",
       "      <td>0.899871</td>\n",
       "      <td>1.000000</td>\n",
       "    </tr>\n",
       "  </tbody>\n",
       "</table>\n",
       "</div>"
      ],
      "text/plain": [
       "            Rate    Verbal      Math\n",
       "Rate    1.000000 -0.886432 -0.773746\n",
       "Verbal -0.886432  1.000000  0.899871\n",
       "Math   -0.773746  0.899871  1.000000"
      ]
     },
     "execution_count": 43,
     "metadata": {},
     "output_type": "execute_result"
    }
   ],
   "source": [
    "# Q6.1\n",
    "\n",
    "# linear correlation between variables \n",
    "\n",
    "df.corr()\n",
    "\n",
    "# 'Verbal' and 'Math a strongly linear-correlated'"
   ]
  },
  {
   "cell_type": "markdown",
   "metadata": {},
   "source": [
    "<img src=\"http://imgur.com/l5NasQj.png\" style=\"float: left; margin: 25px 15px 0px 0px; height: 25px\">\n",
    "\n",
    "### 6.2 Use pandas'  `.describe()` built-in function on your DataFrame\n",
    "\n",
    "Write up what each of the rows returned by the function indicate."
   ]
  },
  {
   "cell_type": "code",
   "execution_count": 44,
   "metadata": {},
   "outputs": [
    {
     "data": {
      "text/html": [
       "<div>\n",
       "<style scoped>\n",
       "    .dataframe tbody tr th:only-of-type {\n",
       "        vertical-align: middle;\n",
       "    }\n",
       "\n",
       "    .dataframe tbody tr th {\n",
       "        vertical-align: top;\n",
       "    }\n",
       "\n",
       "    .dataframe thead th {\n",
       "        text-align: right;\n",
       "    }\n",
       "</style>\n",
       "<table border=\"1\" class=\"dataframe\">\n",
       "  <thead>\n",
       "    <tr style=\"text-align: right;\">\n",
       "      <th></th>\n",
       "      <th>Rate</th>\n",
       "      <th>Verbal</th>\n",
       "      <th>Math</th>\n",
       "    </tr>\n",
       "  </thead>\n",
       "  <tbody>\n",
       "    <tr>\n",
       "      <th>count</th>\n",
       "      <td>52.000000</td>\n",
       "      <td>52.000000</td>\n",
       "      <td>52.000000</td>\n",
       "    </tr>\n",
       "    <tr>\n",
       "      <th>mean</th>\n",
       "      <td>37.153846</td>\n",
       "      <td>532.019231</td>\n",
       "      <td>531.500000</td>\n",
       "    </tr>\n",
       "    <tr>\n",
       "      <th>std</th>\n",
       "      <td>27.301788</td>\n",
       "      <td>33.236225</td>\n",
       "      <td>36.014975</td>\n",
       "    </tr>\n",
       "    <tr>\n",
       "      <th>min</th>\n",
       "      <td>4.000000</td>\n",
       "      <td>482.000000</td>\n",
       "      <td>439.000000</td>\n",
       "    </tr>\n",
       "    <tr>\n",
       "      <th>25%</th>\n",
       "      <td>9.000000</td>\n",
       "      <td>501.000000</td>\n",
       "      <td>504.000000</td>\n",
       "    </tr>\n",
       "    <tr>\n",
       "      <th>50%</th>\n",
       "      <td>33.500000</td>\n",
       "      <td>526.500000</td>\n",
       "      <td>521.000000</td>\n",
       "    </tr>\n",
       "    <tr>\n",
       "      <th>75%</th>\n",
       "      <td>63.500000</td>\n",
       "      <td>562.000000</td>\n",
       "      <td>555.750000</td>\n",
       "    </tr>\n",
       "    <tr>\n",
       "      <th>max</th>\n",
       "      <td>82.000000</td>\n",
       "      <td>593.000000</td>\n",
       "      <td>603.000000</td>\n",
       "    </tr>\n",
       "  </tbody>\n",
       "</table>\n",
       "</div>"
      ],
      "text/plain": [
       "            Rate      Verbal        Math\n",
       "count  52.000000   52.000000   52.000000\n",
       "mean   37.153846  532.019231  531.500000\n",
       "std    27.301788   33.236225   36.014975\n",
       "min     4.000000  482.000000  439.000000\n",
       "25%     9.000000  501.000000  504.000000\n",
       "50%    33.500000  526.500000  521.000000\n",
       "75%    63.500000  562.000000  555.750000\n",
       "max    82.000000  593.000000  603.000000"
      ]
     },
     "execution_count": 44,
     "metadata": {},
     "output_type": "execute_result"
    }
   ],
   "source": [
    "df.describe()\n",
    "\n",
    "# count : number of data points\n",
    "# mean  : average value/ score\n",
    "# std   : standard deviation of distrbution of each column\n",
    "# min   : minimum value of each column\n",
    "# 25%   : score below which 25% of students scored\n",
    "# 50%   : score below which 50% of students scored\n",
    "# 75%   : score below which 75% of students scored\n",
    "# max   : maximum value of each column"
   ]
  },
  {
   "cell_type": "markdown",
   "metadata": {},
   "source": [
    "<img src=\"http://imgur.com/xDpSobf.png\" style=\"float: left; margin: 25px 15px 0px 0px; height: 25px\">\n",
    "\n",
    "### 6.3 Assign and print the _covariance_ matrix for the dataset\n",
    "\n",
    "1. Describe how the covariance matrix is different from the correlation matrix.\n",
    "2. What is the process to convert the covariance into the correlation?\n",
    "3. Why is the correlation matrix preferred to the covariance matrix for examining relationships in your data?"
   ]
  },
  {
   "cell_type": "code",
   "execution_count": 45,
   "metadata": {},
   "outputs": [
    {
     "data": {
      "text/html": [
       "<div>\n",
       "<style scoped>\n",
       "    .dataframe tbody tr th:only-of-type {\n",
       "        vertical-align: middle;\n",
       "    }\n",
       "\n",
       "    .dataframe tbody tr th {\n",
       "        vertical-align: top;\n",
       "    }\n",
       "\n",
       "    .dataframe thead th {\n",
       "        text-align: right;\n",
       "    }\n",
       "</style>\n",
       "<table border=\"1\" class=\"dataframe\">\n",
       "  <thead>\n",
       "    <tr style=\"text-align: right;\">\n",
       "      <th></th>\n",
       "      <th>Rate</th>\n",
       "      <th>Verbal</th>\n",
       "      <th>Math</th>\n",
       "    </tr>\n",
       "  </thead>\n",
       "  <tbody>\n",
       "    <tr>\n",
       "      <th>Rate</th>\n",
       "      <td>745.387632</td>\n",
       "      <td>-804.355958</td>\n",
       "      <td>-760.803922</td>\n",
       "    </tr>\n",
       "    <tr>\n",
       "      <th>Verbal</th>\n",
       "      <td>-804.355958</td>\n",
       "      <td>1104.646682</td>\n",
       "      <td>1077.147059</td>\n",
       "    </tr>\n",
       "    <tr>\n",
       "      <th>Math</th>\n",
       "      <td>-760.803922</td>\n",
       "      <td>1077.147059</td>\n",
       "      <td>1297.078431</td>\n",
       "    </tr>\n",
       "  </tbody>\n",
       "</table>\n",
       "</div>"
      ],
      "text/plain": [
       "              Rate       Verbal         Math\n",
       "Rate    745.387632  -804.355958  -760.803922\n",
       "Verbal -804.355958  1104.646682  1077.147059\n",
       "Math   -760.803922  1077.147059  1297.078431"
      ]
     },
     "execution_count": 45,
     "metadata": {},
     "output_type": "execute_result"
    }
   ],
   "source": [
    "df.cov()\n",
    "\n",
    "# covariance - measure of how much two random variables vary together\n",
    "#              related to product of variance of one variable and that of another variable\n",
    "# correlation - correlation is normalised by dividing covariance by product of std of two variables\n",
    "\n",
    "# correlation indicates how strongly two variables are related to each other.\n",
    "# covariance indicates how tow variables change together. "
   ]
  },
  {
   "cell_type": "markdown",
   "metadata": {},
   "source": [
    "<img src=\"http://imgur.com/l5NasQj.png\" style=\"float: left; margin: 25px 15px 0px 0px; height: 25px\">\n",
    "\n",
    "## 7. Performing EDA on \"drug use by age\" data.\n",
    "\n",
    "---\n",
    "\n",
    "You will now switch datasets to one with many more variables. This section of the project is more open-ended - use the techniques you practiced above!\n",
    "\n",
    "We'll work with the \"drug-use-by-age.csv\" data, sourced from and described here: https://github.com/fivethirtyeight/data/tree/master/drug-use-by-age.\n",
    "\n",
    "### 7.1\n",
    "\n",
    "Load the data using pandas. Does this data require cleaning? Are variables missing? How will this affect your approach to EDA on the data?"
   ]
  },
  {
   "cell_type": "code",
   "execution_count": 52,
   "metadata": {},
   "outputs": [],
   "source": [
    "# Read csv file\n",
    "\n",
    "drug = pd.read_csv('C:/Users/norik/Desktop/DSI7 GA Coursework/Projects/Project-2-Submission/drug-use-by-age-2.csv')"
   ]
  },
  {
   "cell_type": "code",
   "execution_count": 53,
   "metadata": {},
   "outputs": [
    {
     "data": {
      "text/html": [
       "<div>\n",
       "<style scoped>\n",
       "    .dataframe tbody tr th:only-of-type {\n",
       "        vertical-align: middle;\n",
       "    }\n",
       "\n",
       "    .dataframe tbody tr th {\n",
       "        vertical-align: top;\n",
       "    }\n",
       "\n",
       "    .dataframe thead th {\n",
       "        text-align: right;\n",
       "    }\n",
       "</style>\n",
       "<table border=\"1\" class=\"dataframe\">\n",
       "  <thead>\n",
       "    <tr style=\"text-align: right;\">\n",
       "      <th></th>\n",
       "      <th>age</th>\n",
       "      <th>n</th>\n",
       "      <th>alcohol-use</th>\n",
       "      <th>alcohol-frequency</th>\n",
       "      <th>marijuana-use</th>\n",
       "      <th>marijuana-frequency</th>\n",
       "      <th>cocaine-use</th>\n",
       "      <th>cocaine-frequency</th>\n",
       "      <th>crack-use</th>\n",
       "      <th>crack-frequency</th>\n",
       "      <th>...</th>\n",
       "      <th>oxycontin-use</th>\n",
       "      <th>oxycontin-frequency</th>\n",
       "      <th>tranquilizer-use</th>\n",
       "      <th>tranquilizer-frequency</th>\n",
       "      <th>stimulant-use</th>\n",
       "      <th>stimulant-frequency</th>\n",
       "      <th>meth-use</th>\n",
       "      <th>meth-frequency</th>\n",
       "      <th>sedative-use</th>\n",
       "      <th>sedative-frequency</th>\n",
       "    </tr>\n",
       "  </thead>\n",
       "  <tbody>\n",
       "    <tr>\n",
       "      <th>0</th>\n",
       "      <td>12</td>\n",
       "      <td>2798</td>\n",
       "      <td>3.9</td>\n",
       "      <td>3.0</td>\n",
       "      <td>1.1</td>\n",
       "      <td>4.0</td>\n",
       "      <td>0.1</td>\n",
       "      <td>5</td>\n",
       "      <td>0.0</td>\n",
       "      <td>-</td>\n",
       "      <td>...</td>\n",
       "      <td>0.1</td>\n",
       "      <td>24.5</td>\n",
       "      <td>0.2</td>\n",
       "      <td>52.0</td>\n",
       "      <td>0.2</td>\n",
       "      <td>2.0</td>\n",
       "      <td>0.0</td>\n",
       "      <td>-</td>\n",
       "      <td>0.2</td>\n",
       "      <td>13.0</td>\n",
       "    </tr>\n",
       "    <tr>\n",
       "      <th>1</th>\n",
       "      <td>13</td>\n",
       "      <td>2757</td>\n",
       "      <td>8.5</td>\n",
       "      <td>6.0</td>\n",
       "      <td>3.4</td>\n",
       "      <td>15.0</td>\n",
       "      <td>0.1</td>\n",
       "      <td>1</td>\n",
       "      <td>0.0</td>\n",
       "      <td>3</td>\n",
       "      <td>...</td>\n",
       "      <td>0.1</td>\n",
       "      <td>41</td>\n",
       "      <td>0.3</td>\n",
       "      <td>25.5</td>\n",
       "      <td>0.3</td>\n",
       "      <td>4.0</td>\n",
       "      <td>0.1</td>\n",
       "      <td>5</td>\n",
       "      <td>0.1</td>\n",
       "      <td>19.0</td>\n",
       "    </tr>\n",
       "    <tr>\n",
       "      <th>2</th>\n",
       "      <td>14</td>\n",
       "      <td>2792</td>\n",
       "      <td>18.1</td>\n",
       "      <td>5.0</td>\n",
       "      <td>8.7</td>\n",
       "      <td>24.0</td>\n",
       "      <td>0.1</td>\n",
       "      <td>5.5</td>\n",
       "      <td>0.0</td>\n",
       "      <td>-</td>\n",
       "      <td>...</td>\n",
       "      <td>0.4</td>\n",
       "      <td>4.5</td>\n",
       "      <td>0.9</td>\n",
       "      <td>5.0</td>\n",
       "      <td>0.8</td>\n",
       "      <td>12.0</td>\n",
       "      <td>0.1</td>\n",
       "      <td>24</td>\n",
       "      <td>0.2</td>\n",
       "      <td>16.5</td>\n",
       "    </tr>\n",
       "    <tr>\n",
       "      <th>3</th>\n",
       "      <td>15</td>\n",
       "      <td>2956</td>\n",
       "      <td>29.2</td>\n",
       "      <td>6.0</td>\n",
       "      <td>14.5</td>\n",
       "      <td>25.0</td>\n",
       "      <td>0.5</td>\n",
       "      <td>4</td>\n",
       "      <td>0.1</td>\n",
       "      <td>9.5</td>\n",
       "      <td>...</td>\n",
       "      <td>0.8</td>\n",
       "      <td>3</td>\n",
       "      <td>2.0</td>\n",
       "      <td>4.5</td>\n",
       "      <td>1.5</td>\n",
       "      <td>6.0</td>\n",
       "      <td>0.3</td>\n",
       "      <td>10.5</td>\n",
       "      <td>0.4</td>\n",
       "      <td>30.0</td>\n",
       "    </tr>\n",
       "    <tr>\n",
       "      <th>4</th>\n",
       "      <td>16</td>\n",
       "      <td>3058</td>\n",
       "      <td>40.1</td>\n",
       "      <td>10.0</td>\n",
       "      <td>22.5</td>\n",
       "      <td>30.0</td>\n",
       "      <td>1.0</td>\n",
       "      <td>7</td>\n",
       "      <td>0.0</td>\n",
       "      <td>1</td>\n",
       "      <td>...</td>\n",
       "      <td>1.1</td>\n",
       "      <td>4</td>\n",
       "      <td>2.4</td>\n",
       "      <td>11.0</td>\n",
       "      <td>1.8</td>\n",
       "      <td>9.5</td>\n",
       "      <td>0.3</td>\n",
       "      <td>36</td>\n",
       "      <td>0.2</td>\n",
       "      <td>3.0</td>\n",
       "    </tr>\n",
       "  </tbody>\n",
       "</table>\n",
       "<p>5 rows × 28 columns</p>\n",
       "</div>"
      ],
      "text/plain": [
       "  age     n  alcohol-use  alcohol-frequency  marijuana-use  \\\n",
       "0  12  2798          3.9                3.0            1.1   \n",
       "1  13  2757          8.5                6.0            3.4   \n",
       "2  14  2792         18.1                5.0            8.7   \n",
       "3  15  2956         29.2                6.0           14.5   \n",
       "4  16  3058         40.1               10.0           22.5   \n",
       "\n",
       "   marijuana-frequency  cocaine-use cocaine-frequency  crack-use  \\\n",
       "0                  4.0          0.1                 5        0.0   \n",
       "1                 15.0          0.1                 1        0.0   \n",
       "2                 24.0          0.1               5.5        0.0   \n",
       "3                 25.0          0.5                 4        0.1   \n",
       "4                 30.0          1.0                 7        0.0   \n",
       "\n",
       "  crack-frequency  ...  oxycontin-use oxycontin-frequency  tranquilizer-use  \\\n",
       "0               -  ...            0.1                24.5               0.2   \n",
       "1               3  ...            0.1                  41               0.3   \n",
       "2               -  ...            0.4                 4.5               0.9   \n",
       "3             9.5  ...            0.8                   3               2.0   \n",
       "4               1  ...            1.1                   4               2.4   \n",
       "\n",
       "   tranquilizer-frequency  stimulant-use stimulant-frequency  meth-use  \\\n",
       "0                    52.0            0.2                 2.0       0.0   \n",
       "1                    25.5            0.3                 4.0       0.1   \n",
       "2                     5.0            0.8                12.0       0.1   \n",
       "3                     4.5            1.5                 6.0       0.3   \n",
       "4                    11.0            1.8                 9.5       0.3   \n",
       "\n",
       "   meth-frequency  sedative-use sedative-frequency  \n",
       "0               -           0.2               13.0  \n",
       "1               5           0.1               19.0  \n",
       "2              24           0.2               16.5  \n",
       "3            10.5           0.4               30.0  \n",
       "4              36           0.2                3.0  \n",
       "\n",
       "[5 rows x 28 columns]"
      ]
     },
     "execution_count": 53,
     "metadata": {},
     "output_type": "execute_result"
    }
   ],
   "source": [
    "drug.head()"
   ]
  },
  {
   "cell_type": "code",
   "execution_count": 54,
   "metadata": {},
   "outputs": [
    {
     "data": {
      "text/plain": [
       "(20, 28)"
      ]
     },
     "execution_count": 54,
     "metadata": {},
     "output_type": "execute_result"
    }
   ],
   "source": [
    "drug.shape"
   ]
  },
  {
   "cell_type": "code",
   "execution_count": 55,
   "metadata": {},
   "outputs": [
    {
     "data": {
      "text/plain": [
       "Index(['age', 'n', 'alcohol-use', 'alcohol-frequency', 'marijuana-use',\n",
       "       'marijuana-frequency', 'cocaine-use', 'cocaine-frequency', 'crack-use',\n",
       "       'crack-frequency', 'heroin-use', 'heroin-frequency', 'hallucinogen-use',\n",
       "       'hallucinogen-frequency', 'inhalant-use', 'inhalant-frequency',\n",
       "       'pain-releiver-use', 'pain-releiver-frequency', 'oxycontin-use',\n",
       "       'oxycontin-frequency', 'tranquilizer-use', 'tranquilizer-frequency',\n",
       "       'stimulant-use', 'stimulant-frequency', 'meth-use', 'meth-frequency',\n",
       "       'sedative-use', 'sedative-frequency'],\n",
       "      dtype='object')"
      ]
     },
     "execution_count": 55,
     "metadata": {},
     "output_type": "execute_result"
    }
   ],
   "source": [
    "drug.columns"
   ]
  },
  {
   "cell_type": "code",
   "execution_count": 56,
   "metadata": {},
   "outputs": [
    {
     "name": "stdout",
     "output_type": "stream",
     "text": [
      "<class 'pandas.core.frame.DataFrame'>\n",
      "RangeIndex: 20 entries, 0 to 19\n",
      "Data columns (total 28 columns):\n",
      "age                        17 non-null object\n",
      "n                          20 non-null object\n",
      "alcohol-use                20 non-null float64\n",
      "alcohol-frequency          20 non-null float64\n",
      "marijuana-use              20 non-null float64\n",
      "marijuana-frequency        20 non-null float64\n",
      "cocaine-use                20 non-null float64\n",
      "cocaine-frequency          20 non-null object\n",
      "crack-use                  20 non-null float64\n",
      "crack-frequency            20 non-null object\n",
      "heroin-use                 20 non-null float64\n",
      "heroin-frequency           20 non-null object\n",
      "hallucinogen-use           20 non-null float64\n",
      "hallucinogen-frequency     20 non-null float64\n",
      "inhalant-use               20 non-null float64\n",
      "inhalant-frequency         20 non-null object\n",
      "pain-releiver-use          20 non-null float64\n",
      "pain-releiver-frequency    20 non-null float64\n",
      "oxycontin-use              20 non-null float64\n",
      "oxycontin-frequency        20 non-null object\n",
      "tranquilizer-use           20 non-null float64\n",
      "tranquilizer-frequency     20 non-null float64\n",
      "stimulant-use              20 non-null float64\n",
      "stimulant-frequency        20 non-null float64\n",
      "meth-use                   20 non-null float64\n",
      "meth-frequency             20 non-null object\n",
      "sedative-use               20 non-null float64\n",
      "sedative-frequency         20 non-null float64\n",
      "dtypes: float64(20), object(8)\n",
      "memory usage: 4.5+ KB\n"
     ]
    }
   ],
   "source": [
    "drug.info()"
   ]
  },
  {
   "cell_type": "code",
   "execution_count": 57,
   "metadata": {},
   "outputs": [
    {
     "data": {
      "text/plain": [
       "array(['12', '13', '14', '15', '16', '17', '18', '19', '20', '21',\n",
       "       '22-23', '24-25', '26-29', '30-34', '35-49', '50-64', '65+', nan,\n",
       "       nan, nan], dtype=object)"
      ]
     },
     "execution_count": 57,
     "metadata": {},
     "output_type": "execute_result"
    }
   ],
   "source": [
    "np.array(drug['age'])"
   ]
  },
  {
   "cell_type": "code",
   "execution_count": 58,
   "metadata": {},
   "outputs": [],
   "source": [
    "# The info() gives the data frame has 17xrows and 28xcolumns. \n",
    "# It indicates all cell values are 'non-null'. Some columns shows 'object' data type..\n",
    "# .. which indicates there is a cell(s) in that column containinig non-numerical value(s). \n",
    "\n",
    "# Upon checking the oroginal dataset, there were '-'s for some drug use frequencies. They all had the drug use of 0, hence..\n",
    "# .. all '-'s need to be converted to 0."
   ]
  },
  {
   "cell_type": "code",
   "execution_count": 61,
   "metadata": {},
   "outputs": [
    {
     "name": "stderr",
     "output_type": "stream",
     "text": [
      "C:\\Users\\norik\\Anaconda3\\lib\\site-packages\\ipykernel_launcher.py:18: SettingWithCopyWarning: \n",
      "A value is trying to be set on a copy of a slice from a DataFrame\n",
      "\n",
      "See the caveats in the documentation: http://pandas.pydata.org/pandas-docs/stable/indexing.html#indexing-view-versus-copy\n"
     ]
    },
    {
     "ename": "ValueError",
     "evalue": "could not convert string to float: '#VALUE!'",
     "output_type": "error",
     "traceback": [
      "\u001b[1;31m---------------------------------------------------------------------------\u001b[0m",
      "\u001b[1;31mValueError\u001b[0m                                Traceback (most recent call last)",
      "\u001b[1;32m<ipython-input-61-9c212fc13dd2>\u001b[0m in \u001b[0;36m<module>\u001b[1;34m\u001b[0m\n\u001b[0;32m     16\u001b[0m \u001b[1;32mfor\u001b[0m \u001b[0mitem\u001b[0m \u001b[1;32min\u001b[0m \u001b[0mobject_col\u001b[0m\u001b[1;33m:\u001b[0m\u001b[1;33m\u001b[0m\u001b[1;33m\u001b[0m\u001b[0m\n\u001b[0;32m     17\u001b[0m     \u001b[1;32mfor\u001b[0m \u001b[0mi\u001b[0m \u001b[1;32min\u001b[0m \u001b[0mrange\u001b[0m\u001b[1;33m(\u001b[0m\u001b[0mdrug\u001b[0m\u001b[1;33m.\u001b[0m\u001b[0mshape\u001b[0m\u001b[1;33m[\u001b[0m\u001b[1;36m0\u001b[0m\u001b[1;33m]\u001b[0m\u001b[1;33m)\u001b[0m\u001b[1;33m:\u001b[0m\u001b[1;33m\u001b[0m\u001b[1;33m\u001b[0m\u001b[0m\n\u001b[1;32m---> 18\u001b[1;33m         \u001b[0mdrug\u001b[0m\u001b[1;33m[\u001b[0m\u001b[0mitem\u001b[0m\u001b[1;33m]\u001b[0m\u001b[1;33m[\u001b[0m\u001b[0mi\u001b[0m\u001b[1;33m]\u001b[0m \u001b[1;33m=\u001b[0m \u001b[0mfloat\u001b[0m\u001b[1;33m(\u001b[0m\u001b[0mdrug\u001b[0m\u001b[1;33m[\u001b[0m\u001b[0mitem\u001b[0m\u001b[1;33m]\u001b[0m\u001b[1;33m[\u001b[0m\u001b[0mi\u001b[0m\u001b[1;33m]\u001b[0m\u001b[1;33m)\u001b[0m\u001b[1;33m\u001b[0m\u001b[1;33m\u001b[0m\u001b[0m\n\u001b[0m",
      "\u001b[1;31mValueError\u001b[0m: could not convert string to float: '#VALUE!'"
     ]
    }
   ],
   "source": [
    "# Cleaning the data\n",
    "\n",
    "drug = pd.read_csv('C:/Users/norik/Desktop/DSI7 GA Coursework/Projects/Project-2-Submission/drug-use-by-age-2.csv')\n",
    "\n",
    "# By observing the data frame, it appears the frequency was put down as \"-\" where the drug usage was zero.\n",
    "# Replace all '-' to 0\n",
    "# \n",
    "drug = drug.replace('-', 0)\n",
    "\n",
    "\n",
    "\n",
    "# create a list of column whose data type is 'object'\n",
    "object_col = ['cocaine-frequency', 'crack-frequency', 'heroin-frequency', 'inhalant-frequency', 'oxycontin-frequency', 'meth-frequency']\n",
    "\n",
    "\n",
    "for item in object_col:\n",
    "    for i in range(drug.shape[0]):\n",
    "        drug[item][i] = float(drug[item][i])"
   ]
  },
  {
   "cell_type": "code",
   "execution_count": null,
   "metadata": {},
   "outputs": [],
   "source": [
    "drug.info()"
   ]
  },
  {
   "cell_type": "code",
   "execution_count": null,
   "metadata": {
    "scrolled": true
   },
   "outputs": [],
   "source": [
    "drug.head()"
   ]
  },
  {
   "cell_type": "markdown",
   "metadata": {},
   "source": [
    "### 7.2 Do a high-level, initial overview of the data\n",
    "\n",
    "Get a feel for what this dataset is all about.\n",
    "\n",
    "Use whichever techniques you'd like, including those from the SAT dataset EDA. The final response to this question should be a written description of what you infer about the dataset.\n",
    "\n",
    "Some things to consider doing:\n",
    "\n",
    "- Look for relationships between variables and subsets of those variables' values\n",
    "- Derive new features from the ones available to help your analysis\n",
    "- Visualize everything!"
   ]
  },
  {
   "cell_type": "code",
   "execution_count": null,
   "metadata": {},
   "outputs": [],
   "source": [
    "# Obtain mean/median/std  data for each drug use and median frequency\n",
    "\n",
    "drug_describe = drug.describe().T"
   ]
  },
  {
   "cell_type": "code",
   "execution_count": null,
   "metadata": {},
   "outputs": [],
   "source": [
    "#drug.describe().T['mean']"
   ]
  },
  {
   "cell_type": "code",
   "execution_count": null,
   "metadata": {
    "scrolled": false
   },
   "outputs": [],
   "source": [
    "# Create a bar chart for means of drug use\n",
    "\n",
    "row_loc = list(range(1, len(drug_describe.index), 2))\n",
    "drug_use_describe = drug_describe.iloc[row_loc,:]\n",
    "\n",
    "drug_use_describe['mean'].plot(kind='bar', width=0.8, title='Mean of drug-use population')"
   ]
  },
  {
   "cell_type": "code",
   "execution_count": null,
   "metadata": {},
   "outputs": [],
   "source": [
    "# Create a bar chart for means of median of drug use frequency\n",
    "\n",
    "row_loc = list(range(2, len(drug_describe.index), 2))\n",
    "drug_use_describe = drug_describe.iloc[row_loc,:]\n",
    "\n",
    "drug_use_describe['mean'].plot(kind='bar', width=0.8, title='Mean of median of drug use frequency')"
   ]
  },
  {
   "cell_type": "code",
   "execution_count": null,
   "metadata": {},
   "outputs": [],
   "source": [
    "# Visualise frequency of median frequency of each drug type\n",
    "\n",
    "fig, axes = plt.subplots(4,4, figsize=(16,20))\n",
    "\n",
    "for i in range(2, len(drug.columns)):\n",
    "    #print(i)\n",
    "    #print(drug.columns[i])\n",
    "    \n",
    "    \n",
    "    if i%2 == 1:\n",
    "        column = str(drug.columns[i])\n",
    "        \n",
    "        # determine where the graph to be drawn\n",
    "        ax1 = int((i-1)/2-1)//4\n",
    "        ax2 = int(((i-1)/2)-1)%4\n",
    "        \n",
    "        #print(ax1, ax2)\n",
    "        sns.distplot(drug[column], kde=True, bins=20, ax=axes[ax1][ax2])\n",
    "\n"
   ]
  },
  {
   "cell_type": "code",
   "execution_count": null,
   "metadata": {
    "scrolled": false
   },
   "outputs": [],
   "source": [
    "# Visualise age group vs drug-use and median drug frequency\n",
    "\n",
    "fig, axes = plt.subplots(7,4, figsize=(16,30))\n",
    "\n",
    "for i in range(2, len(drug.columns)):\n",
    "    \n",
    "    # determine where the graph to be drawn\n",
    "    ax1 = (i-2)//4\n",
    "    ax2 = (i-2)%4\n",
    "    \n",
    "    if ax2%2 == 0:\n",
    "        drug.plot(x='age', y=drug.columns[i], kind='bar', width=0.8, ax=axes[ax1][ax2])\n",
    "    else:\n",
    "        drug.plot(x='age', y=drug.columns[i], kind='bar', width=0.8, ax=axes[ax1][ax2], color='purple')"
   ]
  },
  {
   "cell_type": "code",
   "execution_count": null,
   "metadata": {},
   "outputs": [],
   "source": [
    "# Standardise all values to box-plot variables on the same figure\n",
    "\n",
    "for item in drug.columns:\n",
    "    #print(item) # gives 'age', 'n', 'alcohol-use', 'alcohol-freq', ...\n",
    "    \n",
    "    if drug[item].dtype == 'float64':\n",
    "        #print(item) # gives 'alcohol-use', 'alcohol-freq', ...\n",
    "        \n",
    "            \n",
    "        mean = drug[item].mean()\n",
    "        std = drug[item].std()\n",
    "\n",
    "        \n",
    "        # print(mean) # gives correct values\n",
    "        # print(std)  # gives correct values)\n",
    "        \n",
    "        drug[item] = drug[item].apply(lambda x: (x-mean)/std)\n",
    "        #print(drug[item])\n",
    "    \n",
    "    else:\n",
    "        drug[item] = drug[item]\n",
    "\n",
    "#drug\n"
   ]
  },
  {
   "cell_type": "code",
   "execution_count": null,
   "metadata": {},
   "outputs": [],
   "source": [
    "use = ['alcohol-use', 'marijuana-use', 'cocaine-use', 'crack-use', 'heroin-use', 'hallucinogen-use', 'inhalant-use', \n",
    "       'pain-releiver-use', 'oxycontin-use', 'tranquilizer-use', 'stimulant-use', 'meth-use', 'sedative-use']\n",
    "\n",
    "freq = ['alcohol-frequency','marijuana-frequency', 'cocaine-frequency', 'crack-frequency', 'heroin-frequency',\n",
    "        'hallucinogen-frequency', 'inhalant-frequency', 'pain-releiver-frequency', 'oxycontin-frequency',\n",
    "        'tranquilizer-frequency', 'stimulant-frequency', 'meth-frequency', 'sedative-frequency' ]"
   ]
  },
  {
   "cell_type": "code",
   "execution_count": null,
   "metadata": {},
   "outputs": [],
   "source": [
    "# plot a box diagram for standardised drug USE\n",
    "\n",
    "drug[use].plot(kind='box', figsize=(16, 8), vert=False)"
   ]
  },
  {
   "cell_type": "code",
   "execution_count": null,
   "metadata": {},
   "outputs": [],
   "source": [
    "# plot a box diagram for standardised median drug FREQUENCY\n",
    "\n",
    "drug[freq].plot(kind='box', figsize=(16, 8), vert=False)"
   ]
  },
  {
   "cell_type": "code",
   "execution_count": null,
   "metadata": {},
   "outputs": [],
   "source": [
    "# Loading original data set & replace - to NaN\n",
    "\n",
    "drug_use = pd.read_csv('C:/Users/norik/Desktop/DSI7 GA Coursework/Projects/Project-2-Submission/drug-use-by-age.csv')\n",
    "drug = drug_use.replace('-', 0)\n",
    "\n",
    "def float_data(value):\n",
    "    return float(value)\n",
    "    \n",
    "object_col = ['cocaine-frequency', 'crack-frequency', 'heroin-frequency', 'inhalant-frequency', 'oxycontin-frequency', 'meth-frequency']\n",
    "\n",
    "for item in object_col:\n",
    "    # print(item)\n",
    "    drug[item] = drug[item].apply(float_data)"
   ]
  },
  {
   "cell_type": "code",
   "execution_count": null,
   "metadata": {},
   "outputs": [],
   "source": [
    "# Explore correlation between variables\n",
    "\n",
    "drug_correlation = drug.corr()"
   ]
  },
  {
   "cell_type": "code",
   "execution_count": null,
   "metadata": {},
   "outputs": [],
   "source": [
    "import matplotlib.pyplot as plt"
   ]
  },
  {
   "cell_type": "code",
   "execution_count": null,
   "metadata": {},
   "outputs": [],
   "source": [
    "fig, axes = plt.subplots(figsize=(20,20))\n",
    "sns.heatmap(drug_correlation, annot=True, cmap='YlGnBu', ax=axes)#, fmt='.2g', linewidths=0.3)"
   ]
  },
  {
   "cell_type": "code",
   "execution_count": null,
   "metadata": {},
   "outputs": [],
   "source": [
    "# Find all variable pairs which have correlation greater than 0.95\n",
    "\n",
    "dict = {}  # Initialised empty dictionary\n",
    "\n",
    "\n",
    "# Iterate through all rows of correlation matrix\n",
    "for i in range(len(drug_correlation.index)):\n",
    "    \n",
    "    values = []  # Initialise empty list\n",
    "    \n",
    "    # Iterate through all columns of correlation matrix\n",
    "    for j in range(len(drug_correlation.columns)):\n",
    "        \n",
    "        # We want to access only the upper half of the matrix\n",
    "        upper = np.triu(drug_correlation)\n",
    "        corr_value = upper[i][j]\n",
    "        \n",
    "        # If the correlation value is greater than 0.95, the column name is appended to the value list.\n",
    "        if abs(corr_value) != 1 and abs(corr_value) > 0.95:\n",
    "            #print(corr_value)\n",
    "            \n",
    "            values.append(drug_correlation.index[j])\n",
    "            \n",
    "            dict[drug_correlation.index[i]] = values\n",
    "\n",
    "dict"
   ]
  },
  {
   "cell_type": "code",
   "execution_count": null,
   "metadata": {
    "scrolled": false
   },
   "outputs": [],
   "source": [
    "# Scatter plot highly correlated variables that were found above.\n",
    "\n",
    "# Initialise the plot space\n",
    "fig, axes = plt.subplots(2,4, figsize=(16,10))\n",
    "\n",
    "# Create a list of dictionary keys\n",
    "dict_keylist=list(dict.keys())\n",
    "\n",
    "# 'count' will be used to locate each plot on the plot space\n",
    "count = 0\n",
    "\n",
    "# Iterate throug the dictionary 'keys' list\n",
    "for i in range(len(dict_keylist)):\n",
    "    #print(i)\n",
    "    var1 = dict_keylist[i]\n",
    "    \n",
    "    # Iterate through the 'values' list for given 'key'\n",
    "    for j in range(len(dict[var1])):\n",
    "        #print(j)\n",
    "        var2 = dict[var1][j]\n",
    "        \n",
    "        count += 1\n",
    "        ax1 = (count-1)//4\n",
    "        ax2 = (count-1)%4\n",
    "         \n",
    "        drug.plot(x=var1, y=var2, kind='scatter', ax=axes[ax1][ax2], title = 'corr: ' + str(drug[var1].corr(drug[var2])))\n",
    "        \n",
    "        # print(count)"
   ]
  },
  {
   "cell_type": "markdown",
   "metadata": {},
   "source": [
    "### 7.3 Create a testable hypothesis about this data\n",
    "\n",
    "Requirements for the question:\n",
    "\n",
    "1. Write a specific question you would like to answer with the data (that can be accomplished with EDA).\n",
    "2. Write a description of the \"deliverables\": what will you report after testing/examining your hypothesis?\n",
    "3. Use EDA techniques of your choice, numeric and/or visual, to look into your question.\n",
    "4. Write up your report on what you have found regarding the hypothesis about the data you came up with.\n",
    "\n",
    "\n",
    "Your hypothesis could be on:\n",
    "\n",
    "- Difference of group means\n",
    "- Correlations between variables\n",
    "- Anything else you think is interesting, testable, and meaningful!\n",
    "\n",
    "**Important notes:**\n",
    "\n",
    "You should be only doing EDA _relevant to your question_ here. It is easy to go down rabbit holes trying to look at every facet of your data, and so we want you to get in the practice of specifying a hypothesis you are interested in first and scoping your work to specifically answer that question.\n",
    "\n",
    "Some of you may want to jump ahead to \"modeling\" data to answer your question. This is a topic addressed in the next project and **you should not do this for this project.** We specifically want you to not do modeling to emphasize the importance of performing EDA _before_ you jump to statistical analysis."
   ]
  },
  {
   "cell_type": "markdown",
   "metadata": {
    "collapsed": true
   },
   "source": [
    "** Question and deliverables**\n",
    "\n",
    "\n",
    "..."
   ]
  },
  {
   "cell_type": "code",
   "execution_count": null,
   "metadata": {},
   "outputs": [],
   "source": [
    "# Loading original data set & replace - to NaN\n",
    "\n",
    "drug_use = pd.read_csv('C:/Users/norik/Desktop/DSI7 GA Coursework/Projects/Project-2-Submission/drug-use-by-age.csv')\n",
    "drug = drug_use.replace('-', 0)\n",
    "\n",
    "def float_data(value):\n",
    "    return float(value)\n",
    "    \n",
    "object_col = ['cocaine-frequency', 'crack-frequency', 'heroin-frequency', 'inhalant-frequency', 'oxycontin-frequency', 'meth-frequency']\n",
    "\n",
    "for item in object_col:\n",
    "    # print(item)\n",
    "    drug[item] = drug[item].apply(float_data)"
   ]
  },
  {
   "cell_type": "markdown",
   "metadata": {},
   "source": [
    "# Q1. Are there any relationship between the age and each drug use?\n",
    "\n",
    "Deliverable : We will use chi-square test to determine whether there is a relationship between the age and each drug."
   ]
  },
  {
   "cell_type": "code",
   "execution_count": null,
   "metadata": {},
   "outputs": [],
   "source": [
    "# Null hypothesis H0 : There is no relationship between the age and the drug.\n",
    "# Alt hypothesis Na : There is a relationship betweem the age and the drug.\n",
    "\n",
    "\n",
    "dof = len(drug.index) - 1   # degree of freedom = number of rows -1 \n",
    "q = 0.95                   # 95% confidence interval\n",
    "\n",
    "critical_value = stats.chi2.ppf(q = 0.95, df = dof)\n",
    "print(\"Critical value : \" + str(critical_value))\n"
   ]
  },
  {
   "cell_type": "code",
   "execution_count": null,
   "metadata": {},
   "outputs": [],
   "source": [
    "print(dof)"
   ]
  },
  {
   "cell_type": "code",
   "execution_count": null,
   "metadata": {},
   "outputs": [],
   "source": [
    "for i in range(len(drug.columns)):\n",
    "    \n",
    "    \n",
    "    if i >= 2 and i%2 == 0:\n",
    "        #print(i)\n",
    "\n",
    "        \n",
    "        use = drug['n'] * drug[drug.columns[i]] / 100   # calculate number of people using the drug \n",
    "        df_use = pd.DataFrame(use)\n",
    "        #print(df_use)\n",
    "        #print(float(df_use.sum()))\n",
    "        \n",
    "        # Expected value\n",
    "        expected_ratio = use.sum() / drug['n'].sum()\n",
    "        #print(expected_ratio)\n",
    "        expected = drug['n'] * expected_ratio\n",
    "        df_expected = pd.DataFrame(expected)\n",
    "        #print(df_expected)\n",
    "        #print(df_use)\n",
    "        \n",
    "        # Chi^2 value for individual cell\n",
    "        chi2 = (df_use.values - df_expected.values)**2 / df_expected.values\n",
    "        #print(chi2)\n",
    "        \n",
    "        # Sum of Chi^2\n",
    "        chi2_sum = chi2.sum()\n",
    "        #print(chi2_sum)\n",
    "        #value_chi2sum.append(chi2_sum)\n",
    "        \n",
    "        # p-value\n",
    "        p_value = 1 - stats.chi2.cdf(x=chi2_sum,  df= dof)\n",
    "        #value_p.append(p_value)\n",
    "\n",
    "        \n",
    "        print(drug.columns[i])\n",
    "        print('Chi-square value : ' + str(chi2_sum))\n",
    "        print('p-value : ' + str(\"%.10f\" % p_value))\n",
    "        # Decide whether to reject or accept the null hypothesis\n",
    "        if p_value < alpha:\n",
    "            print('We reject the null hypothesis and conclude the there is a relationship between the age and ', str(drug.columns[i]))\n",
    "        elif p_value > alpha:\n",
    "            print('We fail to reject the null hypothesis and cannot conclude there is a relationship between the age and ', str(drug.columns[i]))\n",
    "        else:\n",
    "            print('Our test is inconclusive.')\n",
    "        \n",
    "        print('------------------------------------------')\n",
    "       \n",
    "        "
   ]
  },
  {
   "cell_type": "markdown",
   "metadata": {},
   "source": [
    "# Q1 Report\n",
    "The null hypothesis was rejected for all drug types in the data set. We conclude there is a relationship between the age and each type of drug use. It needs to be noted that the greater the number of samples, the higher chi-square value becomes, which means smaller p-value. This increases the chance of Type 2 error. \n"
   ]
  },
  {
   "cell_type": "code",
   "execution_count": null,
   "metadata": {
    "scrolled": true
   },
   "outputs": [],
   "source": [
    "# Create a new dataframe for drug use only and with actual number\n",
    "\n",
    "appended_df = []\n",
    "\n",
    "for i in range(len(drug.columns)):\n",
    "    \n",
    "   \n",
    "    \n",
    "    if i >= 2 and i%2 == 0:\n",
    "        #print(i)\n",
    "\n",
    "        \n",
    "        use = drug['n'] * drug[drug.columns[i]] / 100   # calculate number of people using the drug \n",
    "        #df_use = pd.DataFrame(use)\n",
    "        appended_df.append(use)\n",
    "appended_df = pd.concat(appended_df, axis=1)\n",
    "\n",
    "appended_df.columns = ['alcohol-use', 'marijuana-use', 'cocaine-use', 'crack-use', 'heroin-use', 'hallucinogen-use', 'inhalant-use', \n",
    "       'pain-releiver-use', 'oxycontin-use', 'tranquilizer-use', 'stimulant-use', 'meth-use', 'sedative-use']\n",
    "appended_df.index = drug['age']\n",
    "appended_df\n",
    "        #print(df_use)\n",
    "\n",
    "\n",
    "# Create a new dataframe by adding all values "
   ]
  },
  {
   "cell_type": "code",
   "execution_count": null,
   "metadata": {},
   "outputs": [],
   "source": [
    "# Now create first 4 rows"
   ]
  },
  {
   "cell_type": "markdown",
   "metadata": {},
   "source": [
    "# Q2. Is Alcohol more frequently used than Marijuana?\n",
    "\n",
    "\n",
    "Deliverable : We perform the t-test to compare the means of median alcohol-frequency and that of marijuana."
   ]
  },
  {
   "cell_type": "code",
   "execution_count": null,
   "metadata": {},
   "outputs": [],
   "source": [
    "# Obtain 'alcohol-frequency' and 'marijuana-frequency' data\n",
    "\n",
    "drug_summary = drug.describe().T\n",
    "alco_mari_freq = drug_summary.iloc[[2,4]]\n",
    "alco_mari_freq"
   ]
  },
  {
   "cell_type": "code",
   "execution_count": null,
   "metadata": {},
   "outputs": [],
   "source": [
    "# Visualise frequencies of alcohol-frequency and marijuana-frequency\n",
    "\n",
    "fig=plt.figure(figsize=(8,5))\n",
    "ax=fig.gca()\n",
    "sns.distplot(drug['alcohol-frequency'], bins=25, kde=True)\n",
    "sns.distplot(drug['marijuana-frequency'], bins=25, kde=True)\n",
    "ax.set_xlabel('Median frequency [Alcohol - Marijuana]')"
   ]
  },
  {
   "cell_type": "code",
   "execution_count": null,
   "metadata": {},
   "outputs": [],
   "source": [
    "# Null hypothesis, H0 : The mean of median frequency of alcohol use is the same as that of marijuana use.\n",
    "# Alt hypothesis, Ha : Frequency of alcohol use is larger or less than marijuana use.\n",
    "\n",
    "# Confidence interval = 0.95\n",
    "alpha = 0.05\n",
    "\n",
    "\n",
    "from scipy.stats import t\n",
    "\n",
    "# Find 95% confidence interval for median alcohol-frequency\n",
    "int95_alcohol_freq = t.interval(0.95,\n",
    "                               len(drug['alcohol-frequency'])-1,\n",
    "                               loc=drug['alcohol-frequency'].mean(),\n",
    "                               scale=drug['alcohol-frequency'].sem())\n",
    "\n",
    "print('95% confidence interval for median Alcohol frequency : ', int95_alcohol_freq)\n",
    "\n",
    "\n",
    "# Find 95% confidence interval for median marijuana-frequency\n",
    "int95_marijuana_freq = t.interval(0.95,\n",
    "                               len(drug['marijuana-frequency'])-1,\n",
    "                               loc=drug['marijuana-frequency'].mean(),\n",
    "                               scale=drug['marijuana-frequency'].sem())\n",
    "\n",
    "print('95% confidence interval for median Marijuana frequency : ', int95_marijuana_freq)"
   ]
  },
  {
   "cell_type": "code",
   "execution_count": null,
   "metadata": {},
   "outputs": [],
   "source": [
    "# Calculate t-value and p-value\n",
    "\n",
    "import scipy.stats as stats\n",
    "\n",
    "t_value = stats.ttest_ind(drug['alcohol-frequency'], drug['marijuana-frequency'])[0]\n",
    "p_value = stats.ttest_ind(drug['alcohol-frequency'], drug['marijuana-frequency'])[1]\n",
    "\n",
    "print('t-value : ', t_value)\n",
    "print('p-value : ', p_value/2)\n",
    "\n",
    "# Decide whether to reject or accept the null hypothesis\n",
    "if p_value < alpha:\n",
    "    print('We reject the null hypothesis and conclude the median alcohol frequency is different from the median marijuana frequency.')\n",
    "elif p_value > alpha:\n",
    "    print('We fail to reject the null hypothesis and cannot conclude the median alcohol frequency is different from the median marijuana frequency.')\n",
    "else:\n",
    "    print('Our test is inconclusive.')"
   ]
  },
  {
   "cell_type": "markdown",
   "metadata": {},
   "source": [
    "# Q2 Report\n",
    "The plot of median alcohol frequency and marijuan frequency frequency and the 95% confidence interval calculations show these two variables have a large overlap.\n",
    "The p-value indicates there is a 8.48% chance that the null hypothesis is true. This is higher than out 5% significance level, hence we fail to reject the null hypothesis that the alcohol frequency differs from marijuana frequency."
   ]
  },
  {
   "cell_type": "markdown",
   "metadata": {},
   "source": [
    "# Q3. Can we predict the % of population who use Oxycontin from % of population who use pain-reliever?\n",
    "From the EDA, we saw a high correlation of 0.976 between Axycontin and Pain-Reliever use.\n",
    "\n",
    "\n",
    "Deliverable : Is there sufficient evidence that the correlation exists?"
   ]
  },
  {
   "cell_type": "code",
   "execution_count": null,
   "metadata": {},
   "outputs": [],
   "source": [
    "# Visualise Oxycontin vs Pain-reliever use\n",
    "\n",
    "drug.plot(x='oxycontin-use', y='pain-releiver-use', kind='scatter', title = 'corr: ' + str(drug['oxycontin-use'].corr(drug['pain-releiver-use'])))"
   ]
  },
  {
   "cell_type": "code",
   "execution_count": null,
   "metadata": {},
   "outputs": [],
   "source": [
    "# Perform t-test for existance of linear relationship\n",
    "\n",
    "# Null Hypothesis, H0 : There is no significant linear relationship between oxycontin-use and pain-releiver-use\n",
    "# Alt Hypothesis, Ha : There is a significant linear relationship between oxycontin-use and pain-releiver-use\n",
    "\n",
    "\n",
    "# Confidence interval = 0.95\n",
    "alpha = 0.05 \n",
    "\n",
    "# Calculate t-value and p-value\n",
    "\n",
    "import scipy.stats as stats\n",
    "\n",
    "t_value = stats.pearsonr(drug['oxycontin-use'], drug['pain-releiver-use'])[0]\n",
    "p_value = stats.pearsonr(drug['oxycontin-use'], drug['pain-releiver-use'])[1]\n",
    "\n",
    "print('t-value : ', t_value)\n",
    "print('p-value : ', p_value)\n",
    "\n",
    "# Decide whether to reject or accept the null hypothesis\n",
    "if p_value < alpha:\n",
    "    print('We reject the null hypothesis. There is sufficient evidence at 0.05 significance level to conclude that there is a linear relationship between oxycontin use and pain-releiver use.')\n",
    "elif p_value > alpha:\n",
    "    print('We fail to reject the null hypothesis. There is not enough evidence at 0.05 significance level to conclude that there is a linear relationship between oxycontin use and pain-releiver use.')\n",
    "else:\n",
    "    print('Our test is inconclusive.')"
   ]
  },
  {
   "cell_type": "markdown",
   "metadata": {},
   "source": [
    "# Q3 Report\n",
    "\n",
    "The existance of linear relationship between the oxycontin use and pain-reliever use. The Pearson's correlation coefficient returned 0.98 which indicates there is a significant linear relationship between two variables. The p-value shows significantly smaller than alpha: only 0.00000000212% chance that the null hypothesis is true. Hence we conclude to reject the null hypothesis."
   ]
  },
  {
   "cell_type": "markdown",
   "metadata": {},
   "source": [
    "<img src=\"http://imgur.com/xDpSobf.png\" style=\"float: left; margin: 25px 15px 0px 0px; height: 25px\">\n",
    "\n",
    "## 8. Introduction to dealing with outliers\n",
    "\n",
    "---\n",
    "\n",
    "Outliers are an interesting problem in statistics, in that there is not an agreed upon best way to define them. Subjectivity in selecting and analyzing data is a problem that will recur throughout the course.\n",
    "\n",
    "1. Pull out the rate variable from the sat dataset.\n",
    "2. Are there outliers in the dataset? Define, in words, how you _numerically define outliers._\n",
    "3. Print out the outliers in the dataset.\n",
    "4. Remove the outliers from the dataset.\n",
    "5. Compare the mean, median, and standard deviation of the \"cleaned\" data without outliers to the original. What is different about them and why?"
   ]
  },
  {
   "cell_type": "code",
   "execution_count": null,
   "metadata": {},
   "outputs": [],
   "source": [
    "# Outlier\n",
    "df.head()"
   ]
  },
  {
   "cell_type": "code",
   "execution_count": null,
   "metadata": {},
   "outputs": [],
   "source": [
    "# If the data point falls more than 1.5 times the interquartile range above the third quartile or below the first quartile,\n",
    "# it is an outlier.\n",
    "\n",
    "rate = df['Rate']\n",
    "quart1 = rate.quantile(0.25)\n",
    "quart3 = rate.quantile(0.75)\n",
    "\n",
    "quart_range = quart3-quart1\n",
    "\n",
    "lower_outlier = quart1 - 1.5*quart_range\n",
    "upper_outlier = quart3 + 1.5*quart_range\n",
    "\n",
    "rate_outlier = df[['Rate']][(df['Rate']<lower_outlier) | (df['Rate']>upper_outlier)]\n",
    "rate_outlier\n",
    "\n",
    "# There is no outlier in the Rate data"
   ]
  },
  {
   "cell_type": "code",
   "execution_count": null,
   "metadata": {},
   "outputs": [],
   "source": [
    "def outlier(data):\n",
    "    dict = {}\n",
    "    \n",
    "    for column in data:\n",
    "        q1 = data[column].quantile(0.25)\n",
    "        q3 = data[column].quantile(0.75)\n",
    "        iqr = q3 - q1\n",
    "        l_outlier = q1 - 1.5*iqr\n",
    "        u_outlier = q3 + 1.5*iqr\n",
    "        \n",
    "        outlier = data[[column]][(data[column] < l_outlier) | (data[column] > u_outlier)]\n",
    "        "
   ]
  }
 ],
 "metadata": {
  "kernelspec": {
   "display_name": "Python 3",
   "language": "python",
   "name": "python3"
  },
  "language_info": {
   "codemirror_mode": {
    "name": "ipython",
    "version": 3
   },
   "file_extension": ".py",
   "mimetype": "text/x-python",
   "name": "python",
   "nbconvert_exporter": "python",
   "pygments_lexer": "ipython3",
   "version": "3.7.3"
  },
  "latex_envs": {
   "LaTeX_envs_menu_present": true,
   "autoclose": false,
   "autocomplete": true,
   "bibliofile": "biblio.bib",
   "cite_by": "apalike",
   "current_citInitial": 1,
   "eqLabelWithNumbers": true,
   "eqNumInitial": 1,
   "hotkeys": {
    "equation": "Ctrl-E",
    "itemize": "Ctrl-I"
   },
   "labels_anchors": false,
   "latex_user_defs": false,
   "report_style_numbering": false,
   "user_envs_cfg": false
  },
  "varInspector": {
   "cols": {
    "lenName": 16,
    "lenType": 16,
    "lenVar": 40
   },
   "kernels_config": {
    "python": {
     "delete_cmd_postfix": "",
     "delete_cmd_prefix": "del ",
     "library": "var_list.py",
     "varRefreshCmd": "print(var_dic_list())"
    },
    "r": {
     "delete_cmd_postfix": ") ",
     "delete_cmd_prefix": "rm(",
     "library": "var_list.r",
     "varRefreshCmd": "cat(var_dic_list()) "
    }
   },
   "types_to_exclude": [
    "module",
    "function",
    "builtin_function_or_method",
    "instance",
    "_Feature"
   ],
   "window_display": false
  }
 },
 "nbformat": 4,
 "nbformat_minor": 1
}
